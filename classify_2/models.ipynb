{
  "nbformat": 4,
  "nbformat_minor": 0,
  "metadata": {
    "colab": {
      "provenance": []
    },
    "kernelspec": {
      "name": "python3",
      "display_name": "Python 3"
    },
    "language_info": {
      "name": "python"
    },
    "gpuClass": "premium",
    "accelerator": "GPU"
  },
  "cells": [
    {
      "cell_type": "code",
      "source": [
        "from google.colab import drive\n",
        "drive.mount('/content/drive')"
      ],
      "metadata": {
        "colab": {
          "base_uri": "https://localhost:8080/"
        },
        "id": "VqWb3jL9Y79Q",
        "outputId": "4f1c7843-c527-4ba7-b24d-c647d2f9da4f"
      },
      "execution_count": null,
      "outputs": [
        {
          "output_type": "stream",
          "name": "stdout",
          "text": [
            "Mounted at /content/drive\n"
          ]
        }
      ]
    },
    {
      "cell_type": "code",
      "source": [
        "# some necessary packages\n",
        "import tensorflow as tf\n",
        "from tensorflow.keras.preprocessing.text import Tokenizer\n",
        "from tensorflow.keras import layers, models\n",
        "\n",
        "from sklearn.preprocessing import LabelEncoder\n",
        "import pickle\n",
        "import numpy as np\n",
        "import pandas as pd\n",
        "from tensorflow import keras\n",
        "from tensorflow import keras\n",
        "from keras.utils import pad_sequences\n",
        "from keras.layers import Embedding\n",
        "from sklearn.model_selection import train_test_split\n",
        "from keras.preprocessing.text import Tokenizer\n",
        "from keras.models import Sequential\n",
        "from keras.layers import Dense, Embedding, Conv1D, GlobalMaxPooling1D\n",
        "from keras.optimizers import Adam\n",
        "import seaborn as sns\n",
        "import matplotlib.pyplot as plt\n",
        "from sklearn.metrics import accuracy_score, precision_score, recall_score, f1_score\n",
        "from keras.layers import SimpleRNN\n",
        "from sklearn.metrics import classification_report\n",
        "\n",
        "# set seed for reproducibility\n",
        "np.random.seed(1234)"
      ],
      "metadata": {
        "id": "pZW0qFq8d4k-"
      },
      "execution_count": null,
      "outputs": []
    },
    {
      "cell_type": "code",
      "source": [
        "df = pd.read_csv('/content/drive/MyDrive/korean-food-data/equal-pre-processed_kr3_50k.csv', header=0)\n",
        "print('rows and columns:', df.shape)\n",
        "print(df.head())"
      ],
      "metadata": {
        "colab": {
          "base_uri": "https://localhost:8080/"
        },
        "id": "jwdDmyo7eF5l",
        "outputId": "2fcdc2f3-ea07-4329-f6fe-ab481647708e"
      },
      "execution_count": null,
      "outputs": [
        {
          "output_type": "stream",
          "name": "stdout",
          "text": [
            "rows and columns: (50000, 2)\n",
            "   Rating                                             Review\n",
            "0       0            뷰 는 너무 너무 좋다 가격 이 너무 사악하다 두 번은 가지 않다 하다\n",
            "1       0       무슨 주차장 이 4 대다 주변 에 세우다 곳도 없다 옆 식당 은 주차장 도 넓다\n",
            "2       1                       깔끔하다 먹다 하다 양도 괜찮다 가격 도 부담 없다\n",
            "3       0                         삼계탕 은 괜찮다 일 하다 종업원 들 불친절하다\n",
            "4       0  토마호크 스테이크 광고 에 혹 하다 크리스마스 기념 하다 가족 과 함께 저녁 먹다 ...\n"
          ]
        }
      ]
    },
    {
      "cell_type": "code",
      "source": [
        "# count the number of occurrences of each string in the DataFrame\n",
        "counts = df['Rating'].value_counts()\n",
        "\n",
        "# create a bar plot of the counts using seaborn\n",
        "sns.barplot(x=counts.index, y=counts.values)\n",
        "\n",
        "# add a title and labels to the plot\n",
        "plt.title('Target Class distribution')\n",
        "plt.xlabel('Rating')\n",
        "plt.ylabel('Count')"
      ],
      "metadata": {
        "colab": {
          "base_uri": "https://localhost:8080/",
          "height": 490
        },
        "id": "yhvGmpMWRWU5",
        "outputId": "1779ce39-318f-4e91-c852-b80acf12f245"
      },
      "execution_count": null,
      "outputs": [
        {
          "output_type": "execute_result",
          "data": {
            "text/plain": [
              "Text(0, 0.5, 'Count')"
            ]
          },
          "metadata": {},
          "execution_count": 17
        },
        {
          "output_type": "display_data",
          "data": {
            "text/plain": [
              "<Figure size 640x480 with 1 Axes>"
            ],
            "image/png": "[encoded data removed]"
          },
          "metadata": {}
        }
      ]
    },
    {
      "cell_type": "code",
      "source": [
        "# split df into train and test\n",
        "i = np.random.rand(len(df)) < 0.8\n",
        "train = df[i]\n",
        "test = df[~i]\n",
        "print(\"train data size: \", train.shape)\n",
        "print(\"test data size: \", test.shape)"
      ],
      "metadata": {
        "colab": {
          "base_uri": "https://localhost:8080/"
        },
        "id": "hjAr0BIlefqi",
        "outputId": "7f85e829-d127-4979-c974-e749537972c4"
      },
      "execution_count": null,
      "outputs": [
        {
          "output_type": "stream",
          "name": "stdout",
          "text": [
            "train data size:  (40006, 2)\n",
            "test data size:  (9994, 2)\n"
          ]
        }
      ]
    },
    {
      "cell_type": "code",
      "source": [
        "test.columns"
      ],
      "metadata": {
        "colab": {
          "base_uri": "https://localhost:8080/"
        },
        "id": "OU6otiQ3frfP",
        "outputId": "665e0d2b-e473-48cb-86ce-78a1d40eecb0"
      },
      "execution_count": null,
      "outputs": [
        {
          "output_type": "execute_result",
          "data": {
            "text/plain": [
              "Index(['Rating', 'Review'], dtype='object')"
            ]
          },
          "metadata": {},
          "execution_count": 19
        }
      ]
    },
    {
      "cell_type": "code",
      "source": [
        "train = train.astype({\"Review\": object, \"Review\": str})"
      ],
      "metadata": {
        "id": "xrIGE7dwTTIm"
      },
      "execution_count": null,
      "outputs": []
    },
    {
      "cell_type": "code",
      "source": [
        "# set up X and Y\n",
        "num_labels = 2\n",
        "vocab_size = 25000\n",
        "batch_size = 100\n",
        "\n",
        "# fit the tokenizer on the training data\n",
        "tokenizer = Tokenizer(num_words=vocab_size)\n",
        "tokenizer.fit_on_texts(train.Review)\n",
        "\n",
        "x_train = tokenizer.texts_to_matrix(train.Review, mode='tfidf')\n",
        "x_test = tokenizer.texts_to_matrix(test.Review, mode='tfidf')\n",
        "\n",
        "encoder = LabelEncoder()\n",
        "encoder.fit(train.Rating)\n",
        "y_train = encoder.transform(train.Rating)\n",
        "y_test = encoder.transform(test.Rating)\n",
        "\n",
        "# check shape\n",
        "print(\"train shapes:\", x_train.shape, y_train.shape)\n",
        "print(\"test shapes:\", x_test.shape, y_test.shape)\n",
        "print(\"test first five labels:\", y_test[:5])"
      ],
      "metadata": {
        "colab": {
          "base_uri": "https://localhost:8080/"
        },
        "id": "wT_F8QztemLV",
        "outputId": "21dfeec1-cc0e-4c06-ed08-fcc405474824"
      },
      "execution_count": null,
      "outputs": [
        {
          "output_type": "stream",
          "name": "stdout",
          "text": [
            "train shapes: (40006, 25000) (40006,)\n",
            "test shapes: (9994, 25000) (9994,)\n",
            "test first five labels: [0 1 0 0 1]\n"
          ]
        }
      ]
    },
    {
      "cell_type": "markdown",
      "source": [
        "# Sequential Model"
      ],
      "metadata": {
        "id": "jvh9_VsPXFrz"
      }
    },
    {
      "cell_type": "code",
      "execution_count": null,
      "metadata": {
        "colab": {
          "base_uri": "https://localhost:8080/"
        },
        "id": "ODq-VPURYPw5",
        "outputId": "0515a70f-7f6d-46db-848d-e2ced1e29905"
      },
      "outputs": [
        {
          "output_type": "stream",
          "name": "stdout",
          "text": [
            "Epoch 1/30\n",
            "361/361 [==============================] - 5s 8ms/step - loss: 0.2993 - accuracy: 0.8899 - val_loss: 0.2341 - val_accuracy: 0.9163\n",
            "Epoch 2/30\n",
            "361/361 [==============================] - 2s 5ms/step - loss: 0.1322 - accuracy: 0.9556 - val_loss: 0.2425 - val_accuracy: 0.9215\n",
            "Epoch 3/30\n",
            "361/361 [==============================] - 2s 6ms/step - loss: 0.0847 - accuracy: 0.9723 - val_loss: 0.2643 - val_accuracy: 0.9198\n",
            "Epoch 4/30\n",
            "361/361 [==============================] - 2s 6ms/step - loss: 0.0579 - accuracy: 0.9812 - val_loss: 0.3080 - val_accuracy: 0.9165\n",
            "Epoch 5/30\n",
            "361/361 [==============================] - 2s 6ms/step - loss: 0.0420 - accuracy: 0.9875 - val_loss: 0.3502 - val_accuracy: 0.9115\n",
            "Epoch 6/30\n",
            "361/361 [==============================] - 2s 6ms/step - loss: 0.0306 - accuracy: 0.9911 - val_loss: 0.3833 - val_accuracy: 0.9110\n",
            "Epoch 7/30\n",
            "361/361 [==============================] - 2s 5ms/step - loss: 0.0225 - accuracy: 0.9935 - val_loss: 0.4266 - val_accuracy: 0.9095\n",
            "Epoch 8/30\n",
            "361/361 [==============================] - 2s 5ms/step - loss: 0.0168 - accuracy: 0.9959 - val_loss: 0.4681 - val_accuracy: 0.9078\n",
            "Epoch 9/30\n",
            "361/361 [==============================] - 2s 6ms/step - loss: 0.0125 - accuracy: 0.9968 - val_loss: 0.5301 - val_accuracy: 0.9060\n",
            "Epoch 10/30\n",
            "361/361 [==============================] - 2s 6ms/step - loss: 0.0099 - accuracy: 0.9975 - val_loss: 0.5562 - val_accuracy: 0.9045\n",
            "Epoch 11/30\n",
            "361/361 [==============================] - 2s 5ms/step - loss: 0.0071 - accuracy: 0.9986 - val_loss: 0.6020 - val_accuracy: 0.9048\n",
            "Epoch 12/30\n",
            "361/361 [==============================] - 2s 6ms/step - loss: 0.0051 - accuracy: 0.9989 - val_loss: 0.6352 - val_accuracy: 0.9048\n",
            "Epoch 13/30\n",
            "361/361 [==============================] - 2s 6ms/step - loss: 0.0041 - accuracy: 0.9993 - val_loss: 0.6973 - val_accuracy: 0.9003\n",
            "Epoch 14/30\n",
            "361/361 [==============================] - 2s 6ms/step - loss: 0.0031 - accuracy: 0.9996 - val_loss: 0.7220 - val_accuracy: 0.8990\n",
            "Epoch 15/30\n",
            "361/361 [==============================] - 2s 5ms/step - loss: 0.0025 - accuracy: 0.9996 - val_loss: 0.7638 - val_accuracy: 0.9010\n",
            "Epoch 16/30\n",
            "361/361 [==============================] - 2s 5ms/step - loss: 0.0020 - accuracy: 0.9997 - val_loss: 0.8033 - val_accuracy: 0.9003\n",
            "Epoch 17/30\n",
            "361/361 [==============================] - 2s 5ms/step - loss: 0.0015 - accuracy: 0.9998 - val_loss: 0.8381 - val_accuracy: 0.9000\n",
            "Epoch 18/30\n",
            "361/361 [==============================] - 2s 6ms/step - loss: 0.0013 - accuracy: 0.9998 - val_loss: 0.8788 - val_accuracy: 0.9003\n",
            "Epoch 19/30\n",
            "361/361 [==============================] - 2s 6ms/step - loss: 0.0010 - accuracy: 0.9998 - val_loss: 0.9125 - val_accuracy: 0.8995\n",
            "Epoch 20/30\n",
            "361/361 [==============================] - 2s 6ms/step - loss: 8.3924e-04 - accuracy: 0.9999 - val_loss: 0.9626 - val_accuracy: 0.8985\n",
            "Epoch 21/30\n",
            "361/361 [==============================] - 2s 5ms/step - loss: 7.0074e-04 - accuracy: 0.9999 - val_loss: 0.9906 - val_accuracy: 0.8988\n",
            "Epoch 22/30\n",
            "361/361 [==============================] - 2s 5ms/step - loss: 6.1551e-04 - accuracy: 0.9999 - val_loss: 1.0304 - val_accuracy: 0.8968\n",
            "Epoch 23/30\n",
            "361/361 [==============================] - 2s 5ms/step - loss: 5.1578e-04 - accuracy: 0.9999 - val_loss: 1.0616 - val_accuracy: 0.8978\n",
            "Epoch 24/30\n",
            "361/361 [==============================] - 2s 6ms/step - loss: 4.4392e-04 - accuracy: 0.9999 - val_loss: 1.1017 - val_accuracy: 0.8955\n",
            "Epoch 25/30\n",
            "361/361 [==============================] - 2s 6ms/step - loss: 3.9898e-04 - accuracy: 0.9999 - val_loss: 1.1346 - val_accuracy: 0.8973\n",
            "Epoch 26/30\n",
            "361/361 [==============================] - 2s 6ms/step - loss: 3.3433e-04 - accuracy: 0.9999 - val_loss: 1.1657 - val_accuracy: 0.8963\n",
            "Epoch 27/30\n",
            "361/361 [==============================] - 2s 5ms/step - loss: 3.0812e-04 - accuracy: 0.9999 - val_loss: 1.1894 - val_accuracy: 0.8983\n",
            "Epoch 28/30\n",
            "361/361 [==============================] - 2s 6ms/step - loss: 0.0065 - accuracy: 0.9980 - val_loss: 1.1242 - val_accuracy: 0.8973\n",
            "Epoch 29/30\n",
            "361/361 [==============================] - 2s 6ms/step - loss: 0.0203 - accuracy: 0.9948 - val_loss: 0.9941 - val_accuracy: 0.8998\n",
            "Epoch 30/30\n",
            "361/361 [==============================] - 2s 6ms/step - loss: 0.0050 - accuracy: 0.9988 - val_loss: 0.9968 - val_accuracy: 0.8980\n"
          ]
        }
      ],
      "source": [
        "# fit model\n",
        "model = models.Sequential()\n",
        "model.add(layers.Dense(32, input_dim=vocab_size, kernel_initializer='normal', activation='relu'))\n",
        "model.add(layers.Dense(1, kernel_initializer='normal', activation='sigmoid'))\n",
        " \n",
        "model.compile(loss='binary_crossentropy',\n",
        "              optimizer='adam',\n",
        "              metrics=['accuracy'])\n",
        " \n",
        "history = model.fit(x_train, y_train,\n",
        "                    batch_size=batch_size,\n",
        "                    epochs=30,\n",
        "                    verbose=1,\n",
        "                    validation_split=0.1)"
      ]
    },
    {
      "cell_type": "code",
      "source": [
        "model.save('/content/drive/MyDrive/korean-food-data/sequential_5k')"
      ],
      "metadata": {
        "id": "36cbsSzmWAxs"
      },
      "execution_count": null,
      "outputs": []
    },
    {
      "cell_type": "code",
      "source": [
        "model = keras.models.load_model('/content/drive/MyDrive/korean-food-data/sequential_50k')"
      ],
      "metadata": {
        "id": "71rWZlc_XETk"
      },
      "execution_count": null,
      "outputs": []
    },
    {
      "cell_type": "code",
      "source": [
        "# evaluate\n",
        "score = model.evaluate(x_test, y_test, batch_size=batch_size, verbose=1)\n",
        "print('Accuracy: ', score[1])"
      ],
      "metadata": {
        "colab": {
          "base_uri": "https://localhost:8080/"
        },
        "id": "UmyDBffshecW",
        "outputId": "e6a70b04-7550-4b90-f8ad-35052b1bacc0"
      },
      "execution_count": null,
      "outputs": [
        {
          "output_type": "stream",
          "name": "stdout",
          "text": [
            "100/100 [==============================] - 0s 4ms/step - loss: 0.9495 - accuracy: 0.9028\n",
            "Accuracy:  0.9028416872024536\n"
          ]
        }
      ]
    },
    {
      "cell_type": "code",
      "source": [
        "print(score)\n"
      ],
      "metadata": {
        "colab": {
          "base_uri": "https://localhost:8080/"
        },
        "id": "jSugqGRmjGR9",
        "outputId": "bc272f3e-d7de-4431-9c1c-16f28a2ee7ce"
      },
      "execution_count": null,
      "outputs": [
        {
          "output_type": "stream",
          "name": "stdout",
          "text": [
            "[0.9494510293006897, 0.9028416872024536]\n"
          ]
        }
      ]
    },
    {
      "cell_type": "code",
      "source": [
        "pred = model.predict(x_test)\n",
        "pred_labels = [1 if p>0.5 else 0 for p in pred]"
      ],
      "metadata": {
        "colab": {
          "base_uri": "https://localhost:8080/"
        },
        "id": "oAZHQ2qJjJfY",
        "outputId": "32947f82-2f3c-4fa7-ee58-64af3e8a2658"
      },
      "execution_count": null,
      "outputs": [
        {
          "output_type": "stream",
          "name": "stdout",
          "text": [
            "313/313 [==============================] - 1s 2ms/step\n"
          ]
        }
      ]
    },
    {
      "cell_type": "code",
      "source": [
        "pred_labels[:10]\n"
      ],
      "metadata": {
        "colab": {
          "base_uri": "https://localhost:8080/"
        },
        "id": "yorq65YAjQTA",
        "outputId": "bb4a050b-89a4-4f06-d862-48479d81c13e"
      },
      "execution_count": null,
      "outputs": [
        {
          "output_type": "execute_result",
          "data": {
            "text/plain": [
              "[0, 1, 0, 0, 1, 1, 1, 0, 0, 0]"
            ]
          },
          "metadata": {},
          "execution_count": 26
        }
      ]
    },
    {
      "cell_type": "code",
      "source": [
        "y_test[:10]"
      ],
      "metadata": {
        "colab": {
          "base_uri": "https://localhost:8080/"
        },
        "id": "26AQbDZ6W0Un",
        "outputId": "7d0bea9c-5771-4cfd-b144-5894939eb134"
      },
      "execution_count": null,
      "outputs": [
        {
          "output_type": "execute_result",
          "data": {
            "text/plain": [
              "array([0, 1, 0, 0, 1, 1, 0, 1, 0, 0])"
            ]
          },
          "metadata": {},
          "execution_count": 27
        }
      ]
    },
    {
      "cell_type": "code",
      "source": [
        "print('accuracy score: ', accuracy_score(y_test, pred_labels))\n",
        "print('precision score: ', precision_score(y_test, pred_labels))\n",
        "print('recall score: ', recall_score(y_test, pred_labels))\n",
        "print('f1 score: ', f1_score(y_test, pred_labels))"
      ],
      "metadata": {
        "colab": {
          "base_uri": "https://localhost:8080/"
        },
        "id": "K_grDi8_jS4W",
        "outputId": "38720c6b-481c-4ee9-d931-40cb1dabfd66"
      },
      "execution_count": null,
      "outputs": [
        {
          "output_type": "stream",
          "name": "stdout",
          "text": [
            "accuracy score:  0.9028417050230139\n",
            "precision score:  0.9166494312306102\n",
            "recall score:  0.8864\n",
            "f1 score:  0.9012709710218607\n"
          ]
        }
      ]
    },
    {
      "cell_type": "markdown",
      "source": [
        "Note: it was 95% accurate without equalizing the data. \n",
        "It is less accurate after equalizing, but more likely to be actually picking out features instead of blindly guessing '1'\n",
        "\n",
        "On the 10k dataset, it was only getting 85% accuracy. \n",
        "\n",
        "So I equalized the data for 50k, and now the model is around 90% accurate."
      ],
      "metadata": {
        "id": "_GAUQ9g-kDxe"
      }
    },
    {
      "cell_type": "markdown",
      "source": [
        "# RNN"
      ],
      "metadata": {
        "id": "exMkd8llXSPa"
      }
    },
    {
      "cell_type": "markdown",
      "source": [
        "NOTE: the notebook kept crashing on me for the large dataset I was using (50,000 rows)\n",
        "\n",
        "I had to trim the dataset by a factor of 10 to prevent this. \n",
        "\n",
        "Eventually I also tried saving the sequential model, and only training the RNN. I was able to train the RNN on the 50k dataset, but it took 3 hours, and still had the same accuracy of 50%. "
      ],
      "metadata": {
        "id": "lmncfms4XpS-"
      }
    },
    {
      "cell_type": "code",
      "source": [
        "RX = df['Review']\n",
        "Ry = df['Rating']\n",
        "\n",
        "X_trainRNN, X_testRNN, y_trainRNN, y_testRNN = train_test_split(RX, Ry, test_size=0.2, random_state=42)"
      ],
      "metadata": {
        "id": "pz4l46E9KwPB"
      },
      "execution_count": null,
      "outputs": []
    },
    {
      "cell_type": "code",
      "source": [
        "RNN_max_words = 10000\n",
        "RNN_max_length = 100\n",
        "\n",
        "RNN_tokenizer = Tokenizer(num_words=RNN_max_words, oov_token='<OOV>')\n",
        "RNN_tokenizer.fit_on_texts(X_trainRNN.astype(str))\n",
        "\n",
        "RNN_X_train_seq = tokenizer.texts_to_sequences(X_trainRNN.astype(str))\n",
        "RNN_X_test_seq = tokenizer.texts_to_sequences(X_testRNN)"
      ],
      "metadata": {
        "id": "I3gyZ3biK3Rz"
      },
      "execution_count": null,
      "outputs": []
    },
    {
      "cell_type": "code",
      "source": [
        "X_train_padded = pad_sequences(RNN_X_train_seq, maxlen=RNN_max_length, padding='post', truncating='post')\n",
        "X_test_padded = pad_sequences(RNN_X_test_seq, maxlen=RNN_max_length, padding='post', truncating='post')"
      ],
      "metadata": {
        "id": "83dhG6MhK-J5"
      },
      "execution_count": null,
      "outputs": []
    },
    {
      "cell_type": "code",
      "source": [
        "\n",
        "RNN_embedding_dim = 100\n",
        "\n",
        "RNNmodel = Sequential([\n",
        "    Embedding(RNN_max_words, RNN_embedding_dim, input_length=RNN_max_length),\n",
        "    SimpleRNN(64, return_sequences=True),\n",
        "    SimpleRNN(64),\n",
        "    Dense(64, activation='relu'),\n",
        "    Dense(1, activation='sigmoid')\n",
        "])\n",
        "\n",
        "RNNmodel.summary()"
      ],
      "metadata": {
        "colab": {
          "base_uri": "https://localhost:8080/"
        },
        "id": "nDXWIY7-LA8C",
        "outputId": "37cf7713-33c2-4ab5-a71e-d1d65f636201"
      },
      "execution_count": null,
      "outputs": [
        {
          "output_type": "stream",
          "name": "stdout",
          "text": [
            "Model: \"sequential\"\n",
            "_________________________________________________________________\n",
            " Layer (type)                Output Shape              Param #   \n",
            "=================================================================\n",
            " embedding (Embedding)       (None, 100, 100)          1000000   \n",
            "                                                                 \n",
            " simple_rnn (SimpleRNN)      (None, 100, 64)           10560     \n",
            "                                                                 \n",
            " simple_rnn_1 (SimpleRNN)    (None, 64)                8256      \n",
            "                                                                 \n",
            " dense (Dense)               (None, 64)                4160      \n",
            "                                                                 \n",
            " dense_1 (Dense)             (None, 1)                 65        \n",
            "                                                                 \n",
            "=================================================================\n",
            "Total params: 1,023,041\n",
            "Trainable params: 1,023,041\n",
            "Non-trainable params: 0\n",
            "_________________________________________________________________\n"
          ]
        }
      ]
    },
    {
      "cell_type": "code",
      "source": [
        "RNNmodel.compile(optimizer=Adam(learning_rate=0.001), loss='binary_crossentropy', metrics=['accuracy'])\n",
        "\n",
        "epochs = 10\n",
        "batch_size = 32\n",
        "\n",
        "RNNhistory = RNNmodel.fit(\n",
        "    X_train_padded, y_trainRNN,\n",
        "    validation_data=(X_test_padded, y_testRNN),\n",
        "    epochs=epochs,\n",
        "    batch_size=batch_size,\n",
        "    verbose=2\n",
        ")"
      ],
      "metadata": {
        "colab": {
          "base_uri": "https://localhost:8080/"
        },
        "id": "1CzYYqRrLEWP",
        "outputId": "f6c825ea-6efb-4b95-b27d-e6e16f151d54"
      },
      "execution_count": null,
      "outputs": [
        {
          "output_type": "stream",
          "name": "stdout",
          "text": [
            "Epoch 1/10\n",
            "1250/1250 - 144s - loss: 0.7022 - accuracy: 0.5153 - val_loss: 0.7096 - val_accuracy: 0.5288 - 144s/epoch - 115ms/step\n",
            "Epoch 2/10\n",
            "1250/1250 - 138s - loss: 0.6341 - accuracy: 0.6528 - val_loss: 0.6086 - val_accuracy: 0.6937 - 138s/epoch - 110ms/step\n",
            "Epoch 3/10\n",
            "1250/1250 - 139s - loss: 0.6017 - accuracy: 0.6792 - val_loss: 0.6700 - val_accuracy: 0.5812 - 139s/epoch - 111ms/step\n",
            "Epoch 4/10\n",
            "1250/1250 - 140s - loss: 0.6385 - accuracy: 0.6454 - val_loss: 0.6413 - val_accuracy: 0.6539 - 140s/epoch - 112ms/step\n",
            "Epoch 5/10\n",
            "1250/1250 - 141s - loss: 0.5856 - accuracy: 0.7121 - val_loss: 0.6147 - val_accuracy: 0.6858 - 141s/epoch - 113ms/step\n",
            "Epoch 6/10\n",
            "1250/1250 - 138s - loss: 0.5491 - accuracy: 0.7396 - val_loss: 0.6044 - val_accuracy: 0.6837 - 138s/epoch - 111ms/step\n",
            "Epoch 7/10\n",
            "1250/1250 - 138s - loss: 0.5304 - accuracy: 0.7513 - val_loss: 0.7672 - val_accuracy: 0.5822 - 138s/epoch - 110ms/step\n",
            "Epoch 8/10\n",
            "1250/1250 - 138s - loss: 0.5973 - accuracy: 0.6919 - val_loss: 0.6636 - val_accuracy: 0.5569 - 138s/epoch - 110ms/step\n",
            "Epoch 9/10\n",
            "1250/1250 - 138s - loss: 0.6049 - accuracy: 0.6800 - val_loss: 0.6294 - val_accuracy: 0.6652 - 138s/epoch - 111ms/step\n",
            "Epoch 10/10\n",
            "1250/1250 - 139s - loss: 0.5820 - accuracy: 0.7092 - val_loss: 0.6137 - val_accuracy: 0.6825 - 139s/epoch - 111ms/step\n"
          ]
        }
      ]
    },
    {
      "cell_type": "code",
      "source": [
        "RNNmodel.save('/content/drive/MyDrive/korean-food-data/rnn_final')"
      ],
      "metadata": {
        "id": "AwsbPZwBuq6u"
      },
      "execution_count": null,
      "outputs": []
    },
    {
      "cell_type": "code",
      "source": [
        "RNNmodel = keras.models.load_model('/content/drive/MyDrive/korean-food-data/rnn_final')"
      ],
      "metadata": {
        "id": "4jKikPV4u5Kt"
      },
      "execution_count": null,
      "outputs": []
    },
    {
      "cell_type": "code",
      "source": [
        "y_pred_rnn = (RNNmodel.predict(X_test_padded) > 0.5).astype(\"int32\")"
      ],
      "metadata": {
        "colab": {
          "base_uri": "https://localhost:8080/"
        },
        "id": "zHfIDj_Nr96p",
        "outputId": "368458ec-65bf-4729-f399-5cabc89062c5"
      },
      "execution_count": null,
      "outputs": [
        {
          "output_type": "stream",
          "name": "stdout",
          "text": [
            "313/313 [==============================] - 9s 17ms/step\n"
          ]
        }
      ]
    },
    {
      "cell_type": "code",
      "source": [
        "print(\"RNN Model Evaluation:\")\n",
        "print(classification_report(y_testRNN, y_pred_rnn))"
      ],
      "metadata": {
        "colab": {
          "base_uri": "https://localhost:8080/"
        },
        "id": "XShaNxBPsHGJ",
        "outputId": "d2e7d14e-08f6-421a-c9e6-ac4a7207397b"
      },
      "execution_count": null,
      "outputs": [
        {
          "output_type": "stream",
          "name": "stdout",
          "text": [
            "RNN Model Evaluation:\n",
            "              precision    recall  f1-score   support\n",
            "\n",
            "           0       0.51      0.80      0.63      4965\n",
            "           1       0.56      0.25      0.35      5035\n",
            "\n",
            "    accuracy                           0.53     10000\n",
            "   macro avg       0.54      0.53      0.49     10000\n",
            "weighted avg       0.54      0.53      0.49     10000\n",
            "\n"
          ]
        }
      ]
    },
    {
      "cell_type": "markdown",
      "source": [
        "# CNN"
      ],
      "metadata": {
        "id": "0LAvNqW8XUqo"
      }
    },
    {
      "cell_type": "code",
      "source": [
        "CNNdf = pd.read_csv('/content/drive/MyDrive/korean-food-data/equal-pre-processed_kr3_50k.csv', header=0)"
      ],
      "metadata": {
        "id": "pJ066aTy3xV1"
      },
      "execution_count": null,
      "outputs": []
    },
    {
      "cell_type": "code",
      "source": [
        "CX = df['Review']\n",
        "Cy = df['Rating']\n",
        "\n",
        "X_trainCNN, X_testCNN, y_trainCNN, y_testCNN = train_test_split(CX, Cy, test_size=0.2, random_state=42)\n",
        "\n"
      ],
      "metadata": {
        "id": "YsWOahpLEkFG"
      },
      "execution_count": null,
      "outputs": []
    },
    {
      "cell_type": "code",
      "source": [
        "CNNmax_words = 10000\n",
        "CNNmax_length = 100\n",
        "\n",
        "CNNtokenizer = Tokenizer(num_words=CNNmax_words, oov_token='<OOV>')\n",
        "CNNtokenizer.fit_on_texts(X_trainCNN.astype(str))\n",
        "\n",
        "CNN_X_train_seq = CNNtokenizer.texts_to_sequences(X_trainCNN.astype(str))\n",
        "CNN_X_test_seq = CNNtokenizer.texts_to_sequences(X_testCNN)"
      ],
      "metadata": {
        "id": "9jxa-do-IPhd"
      },
      "execution_count": null,
      "outputs": []
    },
    {
      "cell_type": "code",
      "source": [
        "CNN_X_train_padded = pad_sequences(CNN_X_train_seq, maxlen=CNNmax_length, padding='post', truncating='post')\n",
        "CNN_X_test_padded = pad_sequences(CNN_X_test_seq, maxlen=CNNmax_length, padding='post', truncating='post')"
      ],
      "metadata": {
        "id": "spEicPTxIT5r"
      },
      "execution_count": null,
      "outputs": []
    },
    {
      "cell_type": "code",
      "source": [
        "embedding_dim = 100\n",
        "\n",
        "CNNmodel = Sequential([\n",
        "    Embedding(CNNmax_words, embedding_dim, input_length=CNNmax_length),\n",
        "    Conv1D(128, 5, activation='relu'),\n",
        "    GlobalMaxPooling1D(),\n",
        "    Dense(64, activation='relu'),\n",
        "    Dense(1, activation='sigmoid')\n",
        "])\n",
        "\n",
        "CNNmodel.summary()"
      ],
      "metadata": {
        "colab": {
          "base_uri": "https://localhost:8080/"
        },
        "id": "AYo90X2NIWhn",
        "outputId": "5a61cba2-0e85-4ba4-cbba-e8f2576fbf16"
      },
      "execution_count": null,
      "outputs": [
        {
          "output_type": "stream",
          "name": "stdout",
          "text": [
            "Model: \"sequential\"\n",
            "_________________________________________________________________\n",
            " Layer (type)                Output Shape              Param #   \n",
            "=================================================================\n",
            " embedding (Embedding)       (None, 100, 100)          1000000   \n",
            "                                                                 \n",
            " conv1d (Conv1D)             (None, 96, 128)           64128     \n",
            "                                                                 \n",
            " global_max_pooling1d (Globa  (None, 128)              0         \n",
            " lMaxPooling1D)                                                  \n",
            "                                                                 \n",
            " dense (Dense)               (None, 64)                8256      \n",
            "                                                                 \n",
            " dense_1 (Dense)             (None, 1)                 65        \n",
            "                                                                 \n",
            "=================================================================\n",
            "Total params: 1,072,449\n",
            "Trainable params: 1,072,449\n",
            "Non-trainable params: 0\n",
            "_________________________________________________________________\n"
          ]
        }
      ]
    },
    {
      "cell_type": "code",
      "source": [
        "CNNmodel.compile(optimizer=Adam(learning_rate=0.001), loss='binary_crossentropy', metrics=['accuracy'])\n",
        "\n",
        "epochs = 10\n",
        "batch_size = 32\n",
        "\n",
        "CNNhistory = CNNmodel.fit(\n",
        "    CNN_X_train_padded, y_trainCNN,\n",
        "    validation_data=(CNN_X_test_padded, y_testCNN),\n",
        "    epochs=epochs,\n",
        "    batch_size=batch_size,\n",
        "    verbose=2\n",
        ")"
      ],
      "metadata": {
        "colab": {
          "base_uri": "https://localhost:8080/"
        },
        "id": "-R6kZpbMIaKc",
        "outputId": "a4e619d5-7efa-4ef9-891d-eb7ff688128f"
      },
      "execution_count": null,
      "outputs": [
        {
          "output_type": "stream",
          "name": "stdout",
          "text": [
            "Epoch 1/10\n",
            "1250/1250 - 14s - loss: 0.2351 - accuracy: 0.9028 - val_loss: 0.1807 - val_accuracy: 0.9299 - 14s/epoch - 11ms/step\n",
            "Epoch 2/10\n",
            "1250/1250 - 3s - loss: 0.1078 - accuracy: 0.9605 - val_loss: 0.1929 - val_accuracy: 0.9273 - 3s/epoch - 3ms/step\n",
            "Epoch 3/10\n",
            "1250/1250 - 3s - loss: 0.0403 - accuracy: 0.9869 - val_loss: 0.2679 - val_accuracy: 0.9250 - 3s/epoch - 3ms/step\n",
            "Epoch 4/10\n",
            "1250/1250 - 3s - loss: 0.0144 - accuracy: 0.9955 - val_loss: 0.3150 - val_accuracy: 0.9249 - 3s/epoch - 3ms/step\n",
            "Epoch 5/10\n",
            "1250/1250 - 3s - loss: 0.0112 - accuracy: 0.9963 - val_loss: 0.3944 - val_accuracy: 0.9221 - 3s/epoch - 3ms/step\n",
            "Epoch 6/10\n",
            "1250/1250 - 3s - loss: 0.0135 - accuracy: 0.9950 - val_loss: 0.3860 - val_accuracy: 0.9262 - 3s/epoch - 3ms/step\n",
            "Epoch 7/10\n",
            "1250/1250 - 3s - loss: 0.0091 - accuracy: 0.9968 - val_loss: 0.3932 - val_accuracy: 0.9235 - 3s/epoch - 3ms/step\n",
            "Epoch 8/10\n",
            "1250/1250 - 3s - loss: 0.0070 - accuracy: 0.9977 - val_loss: 0.4489 - val_accuracy: 0.9199 - 3s/epoch - 3ms/step\n",
            "Epoch 9/10\n",
            "1250/1250 - 3s - loss: 0.0069 - accuracy: 0.9978 - val_loss: 0.4538 - val_accuracy: 0.9227 - 3s/epoch - 3ms/step\n",
            "Epoch 10/10\n",
            "1250/1250 - 3s - loss: 0.0058 - accuracy: 0.9979 - val_loss: 0.4633 - val_accuracy: 0.9214 - 3s/epoch - 3ms/step\n"
          ]
        }
      ]
    },
    {
      "cell_type": "code",
      "source": [
        "CNNmodel.save('/content/drive/MyDrive/korean-food-data/cnn_final')"
      ],
      "metadata": {
        "colab": {
          "base_uri": "https://localhost:8080/"
        },
        "id": "RHktmp2wsw0M",
        "outputId": "5632569c-638c-4fd2-e01f-bb5386c074ba"
      },
      "execution_count": null,
      "outputs": [
        {
          "output_type": "stream",
          "name": "stderr",
          "text": [
            "WARNING:absl:Found untraced functions such as _jit_compiled_convolution_op while saving (showing 1 of 1). These functions will not be directly callable after loading.\n"
          ]
        }
      ]
    },
    {
      "cell_type": "code",
      "source": [
        "CNNmodel = keras.models.load_model('/content/drive/MyDrive/korean-food-data/cnn_final')"
      ],
      "metadata": {
        "id": "-rEAxvH0s06K"
      },
      "execution_count": null,
      "outputs": []
    },
    {
      "cell_type": "code",
      "source": [
        "y_pred_cnn = (CNNmodel.predict(CNN_X_test_padded) > 0.5).astype(\"int32\")\n",
        "print(\"CNN Model Evaluation:\")\n",
        "print(classification_report(y_testCNN, y_pred_cnn))\n"
      ],
      "metadata": {
        "colab": {
          "base_uri": "https://localhost:8080/"
        },
        "id": "CINJxkQwJAsC",
        "outputId": "072f467a-b362-4b5c-87d6-6ad46738949b"
      },
      "execution_count": null,
      "outputs": [
        {
          "output_type": "stream",
          "name": "stdout",
          "text": [
            "313/313 [==============================] - 1s 2ms/step\n",
            "CNN Model Evaluation:\n",
            "              precision    recall  f1-score   support\n",
            "\n",
            "           0       0.92      0.92      0.92      4965\n",
            "           1       0.92      0.92      0.92      5035\n",
            "\n",
            "    accuracy                           0.92     10000\n",
            "   macro avg       0.92      0.92      0.92     10000\n",
            "weighted avg       0.92      0.92      0.92     10000\n",
            "\n"
          ]
        }
      ]
    },
    {
      "cell_type": "markdown",
      "source": [
        "# different embedding approaches"
      ],
      "metadata": {
        "id": "rVK3gBXkXV8a"
      }
    },
    {
      "cell_type": "code",
      "source": [
        "#1\n",
        "embedding_dim_1 = 1000\n",
        "\n",
        "CNNmodel_e1 = Sequential([\n",
        "    Embedding(CNNmax_words, embedding_dim_1, input_length=CNNmax_length),\n",
        "    Conv1D(128, 5, activation='relu'),\n",
        "    GlobalMaxPooling1D(),\n",
        "    Dense(64, activation='relu'),\n",
        "    Dense(1, activation='sigmoid')\n",
        "])\n",
        "\n",
        "#2\n",
        "embedding_dim_2 = 750\n",
        "\n",
        "CNNmodel_e2 = Sequential([\n",
        "    Embedding(CNNmax_words, embedding_dim_2, input_length=CNNmax_length),\n",
        "    Conv1D(128, 5, activation='relu'),\n",
        "    GlobalMaxPooling1D(),\n",
        "    Dense(64, activation='relu'),\n",
        "    Dense(1, activation='sigmoid')\n",
        "])\n",
        "\n",
        "#3\n",
        "\n",
        "embedding_dim_3 = 10\n",
        "\n",
        "CNNmodel_e3 = Sequential([\n",
        "    Embedding(CNNmax_words, embedding_dim_3, input_length=CNNmax_length),\n",
        "    Conv1D(128, 5, activation='relu'),\n",
        "    GlobalMaxPooling1D(),\n",
        "    Dense(64, activation='relu'),\n",
        "    Dense(1, activation='sigmoid')\n",
        "])"
      ],
      "metadata": {
        "id": "siT-5i2QXX4o"
      },
      "execution_count": null,
      "outputs": []
    },
    {
      "cell_type": "code",
      "source": [
        "# train CNN models\n",
        "CNNmodel_e1.compile(optimizer=Adam(learning_rate=0.001), loss='binary_crossentropy', metrics=['accuracy'])\n",
        "\n",
        "epochs = 10\n",
        "batch_size = 32\n",
        "\n",
        "CNNhistory_e1 = CNNmodel_e1.fit(\n",
        "    CNN_X_train_padded, y_trainCNN,\n",
        "    validation_data=(CNN_X_test_padded, y_testCNN),\n",
        "    epochs=epochs,\n",
        "    batch_size=batch_size,\n",
        "    verbose=2\n",
        ")\n",
        "\n",
        "CNNmodel_e2.compile(optimizer=Adam(learning_rate=0.001), loss='binary_crossentropy', metrics=['accuracy'])\n",
        "\n",
        "epochs = 10\n",
        "batch_size = 32\n",
        "\n",
        "CNNhistory_e1 = CNNmodel_e2.fit(\n",
        "    CNN_X_train_padded, y_trainCNN,\n",
        "    validation_data=(CNN_X_test_padded, y_testCNN),\n",
        "    epochs=epochs,\n",
        "    batch_size=batch_size,\n",
        "    verbose=2\n",
        ")\n",
        "\n",
        "CNNmodel_e3.compile(optimizer=Adam(learning_rate=0.001), loss='binary_crossentropy', metrics=['accuracy'])\n",
        "\n",
        "epochs = 10\n",
        "batch_size = 32\n",
        "\n",
        "CNNhistory_e1 = CNNmodel_e3.fit(\n",
        "    CNN_X_train_padded, y_trainCNN,\n",
        "    validation_data=(CNN_X_test_padded, y_testCNN),\n",
        "    epochs=epochs,\n",
        "    batch_size=batch_size,\n",
        "    verbose=2\n",
        ")"
      ],
      "metadata": {
        "colab": {
          "base_uri": "https://localhost:8080/"
        },
        "id": "qxZaiV9F9Bd8",
        "outputId": "4a3256c1-5084-456c-9b61-1dee803e907e"
      },
      "execution_count": null,
      "outputs": [
        {
          "output_type": "stream",
          "name": "stdout",
          "text": [
            "Epoch 1/10\n",
            "1250/1250 - 8s - loss: 0.0105 - accuracy: 0.9968 - val_loss: 0.4936 - val_accuracy: 0.9245 - 8s/epoch - 6ms/step\n",
            "Epoch 2/10\n",
            "1250/1250 - 7s - loss: 0.0048 - accuracy: 0.9984 - val_loss: 0.4976 - val_accuracy: 0.9226 - 7s/epoch - 5ms/step\n",
            "Epoch 3/10\n",
            "1250/1250 - 7s - loss: 0.0041 - accuracy: 0.9985 - val_loss: 0.6858 - val_accuracy: 0.9178 - 7s/epoch - 6ms/step\n",
            "Epoch 4/10\n",
            "1250/1250 - 7s - loss: 0.0082 - accuracy: 0.9974 - val_loss: 0.5394 - val_accuracy: 0.9184 - 7s/epoch - 5ms/step\n",
            "Epoch 5/10\n",
            "1250/1250 - 7s - loss: 0.0044 - accuracy: 0.9985 - val_loss: 0.5811 - val_accuracy: 0.9200 - 7s/epoch - 6ms/step\n",
            "Epoch 6/10\n",
            "1250/1250 - 6s - loss: 0.0021 - accuracy: 0.9992 - val_loss: 0.7380 - val_accuracy: 0.9179 - 6s/epoch - 5ms/step\n",
            "Epoch 7/10\n",
            "1250/1250 - 7s - loss: 0.0074 - accuracy: 0.9974 - val_loss: 0.5944 - val_accuracy: 0.9124 - 7s/epoch - 5ms/step\n",
            "Epoch 8/10\n",
            "1250/1250 - 6s - loss: 0.0048 - accuracy: 0.9984 - val_loss: 0.5686 - val_accuracy: 0.9223 - 6s/epoch - 5ms/step\n",
            "Epoch 9/10\n",
            "1250/1250 - 7s - loss: 0.0044 - accuracy: 0.9985 - val_loss: 0.5033 - val_accuracy: 0.9202 - 7s/epoch - 5ms/step\n",
            "Epoch 10/10\n",
            "1250/1250 - 7s - loss: 0.0022 - accuracy: 0.9992 - val_loss: 0.6966 - val_accuracy: 0.9150 - 7s/epoch - 5ms/step\n",
            "Epoch 1/10\n",
            "1250/1250 - 7s - loss: 0.2211 - accuracy: 0.9091 - val_loss: 0.1926 - val_accuracy: 0.9249 - 7s/epoch - 5ms/step\n",
            "Epoch 2/10\n",
            "1250/1250 - 6s - loss: 0.0941 - accuracy: 0.9663 - val_loss: 0.2213 - val_accuracy: 0.9171 - 6s/epoch - 5ms/step\n",
            "Epoch 3/10\n",
            "1250/1250 - 6s - loss: 0.0355 - accuracy: 0.9879 - val_loss: 0.2680 - val_accuracy: 0.9269 - 6s/epoch - 5ms/step\n",
            "Epoch 4/10\n",
            "1250/1250 - 5s - loss: 0.0204 - accuracy: 0.9930 - val_loss: 0.2950 - val_accuracy: 0.9261 - 5s/epoch - 4ms/step\n",
            "Epoch 5/10\n",
            "1250/1250 - 6s - loss: 0.0136 - accuracy: 0.9952 - val_loss: 0.3618 - val_accuracy: 0.9210 - 6s/epoch - 5ms/step\n",
            "Epoch 6/10\n",
            "1250/1250 - 6s - loss: 0.0152 - accuracy: 0.9948 - val_loss: 0.3886 - val_accuracy: 0.9248 - 6s/epoch - 5ms/step\n",
            "Epoch 7/10\n",
            "1250/1250 - 6s - loss: 0.0131 - accuracy: 0.9955 - val_loss: 0.4145 - val_accuracy: 0.9234 - 6s/epoch - 5ms/step\n",
            "Epoch 8/10\n",
            "1250/1250 - 6s - loss: 0.0093 - accuracy: 0.9968 - val_loss: 0.4547 - val_accuracy: 0.9216 - 6s/epoch - 5ms/step\n",
            "Epoch 9/10\n",
            "1250/1250 - 6s - loss: 0.0088 - accuracy: 0.9968 - val_loss: 0.4888 - val_accuracy: 0.9243 - 6s/epoch - 5ms/step\n",
            "Epoch 10/10\n",
            "1250/1250 - 6s - loss: 0.0073 - accuracy: 0.9975 - val_loss: 0.4890 - val_accuracy: 0.9277 - 6s/epoch - 5ms/step\n",
            "Epoch 1/10\n",
            "1250/1250 - 5s - loss: 0.2681 - accuracy: 0.8816 - val_loss: 0.2003 - val_accuracy: 0.9233 - 5s/epoch - 4ms/step\n",
            "Epoch 2/10\n",
            "1250/1250 - 5s - loss: 0.1525 - accuracy: 0.9416 - val_loss: 0.1904 - val_accuracy: 0.9272 - 5s/epoch - 4ms/step\n",
            "Epoch 3/10\n",
            "1250/1250 - 4s - loss: 0.1049 - accuracy: 0.9625 - val_loss: 0.2143 - val_accuracy: 0.9229 - 4s/epoch - 3ms/step\n",
            "Epoch 4/10\n",
            "1250/1250 - 4s - loss: 0.0684 - accuracy: 0.9776 - val_loss: 0.2713 - val_accuracy: 0.9156 - 4s/epoch - 3ms/step\n",
            "Epoch 5/10\n",
            "1250/1250 - 6s - loss: 0.0429 - accuracy: 0.9869 - val_loss: 0.3393 - val_accuracy: 0.9114 - 6s/epoch - 5ms/step\n",
            "Epoch 6/10\n",
            "1250/1250 - 5s - loss: 0.0259 - accuracy: 0.9922 - val_loss: 0.3335 - val_accuracy: 0.9159 - 5s/epoch - 4ms/step\n",
            "Epoch 7/10\n",
            "1250/1250 - 4s - loss: 0.0172 - accuracy: 0.9950 - val_loss: 0.3874 - val_accuracy: 0.9128 - 4s/epoch - 3ms/step\n",
            "Epoch 8/10\n",
            "1250/1250 - 5s - loss: 0.0116 - accuracy: 0.9967 - val_loss: 0.4626 - val_accuracy: 0.9108 - 5s/epoch - 4ms/step\n",
            "Epoch 9/10\n",
            "1250/1250 - 4s - loss: 0.0093 - accuracy: 0.9972 - val_loss: 0.4883 - val_accuracy: 0.9124 - 4s/epoch - 3ms/step\n",
            "Epoch 10/10\n",
            "1250/1250 - 4s - loss: 0.0093 - accuracy: 0.9971 - val_loss: 0.4957 - val_accuracy: 0.9128 - 4s/epoch - 3ms/step\n"
          ]
        }
      ]
    },
    {
      "cell_type": "code",
      "source": [
        "CNNmodel_e1.save('/content/drive/MyDrive/korean-food-data/cnn_e1')\n",
        "CNNmodel_e2.save('/content/drive/MyDrive/korean-food-data/cnn_e2')\n",
        "CNNmodel_e3.save('/content/drive/MyDrive/korean-food-data/cnn_e3')"
      ],
      "metadata": {
        "colab": {
          "base_uri": "https://localhost:8080/"
        },
        "id": "paMYrWMBJ8ij",
        "outputId": "afc002c1-3ee1-4888-ae21-0ae73ea262b7"
      },
      "execution_count": null,
      "outputs": [
        {
          "output_type": "stream",
          "name": "stderr",
          "text": [
            "WARNING:absl:Found untraced functions such as _jit_compiled_convolution_op while saving (showing 1 of 1). These functions will not be directly callable after loading.\n",
            "WARNING:absl:Found untraced functions such as _jit_compiled_convolution_op while saving (showing 1 of 1). These functions will not be directly callable after loading.\n",
            "WARNING:absl:Found untraced functions such as _jit_compiled_convolution_op while saving (showing 1 of 1). These functions will not be directly callable after loading.\n"
          ]
        }
      ]
    },
    {
      "cell_type": "code",
      "source": [
        "CNNmodel_e1 = keras.models.load_model('/content/drive/MyDrive/korean-food-data/cnn_e1')\n",
        "CNNmodel_e2 = keras.models.load_model('/content/drive/MyDrive/korean-food-data/cnn_e2')\n",
        "CNNmodel_e3 = keras.models.load_model('/content/drive/MyDrive/korean-food-data/cnn_e3')"
      ],
      "metadata": {
        "id": "jWoOl2z3M58B"
      },
      "execution_count": null,
      "outputs": []
    },
    {
      "cell_type": "code",
      "source": [
        "y_pred_cnn_e1 = (CNNmodel_e1.predict(X_test_padded) > 0.5).astype(\"int32\")\n",
        "print(\"CNN Model Evaluation (Embedding 1):\")\n",
        "print(classification_report(y_testCNN, y_pred_cnn_e1))\n",
        "\n",
        "y_pred_cnn_e2 = (CNNmodel_e2.predict(X_test_padded) > 0.5).astype(\"int32\")\n",
        "print(\"CNN Model Evaluation (Embedding 2):\")\n",
        "print(classification_report(y_testCNN, y_pred_cnn_e2))\n",
        "\n",
        "y_pred_cnn_e3 = (CNNmodel_e3.predict(X_test_padded) > 0.5).astype(\"int32\")\n",
        "print(\"CNN Model Evaluation (Embedding 3):\")\n",
        "print(classification_report(y_testCNN, y_pred_cnn_e3))"
      ],
      "metadata": {
        "colab": {
          "base_uri": "https://localhost:8080/"
        },
        "id": "Cx3W9-_LNVYi",
        "outputId": "6b8a7208-a003-4710-e80d-7470d409c363"
      },
      "execution_count": null,
      "outputs": [
        {
          "output_type": "stream",
          "name": "stdout",
          "text": [
            "313/313 [==============================] - 1s 2ms/step\n",
            "CNN Model Evaluation (Embedding 1):\n",
            "              precision    recall  f1-score   support\n",
            "\n",
            "           0       0.93      0.89      0.91      4965\n",
            "           1       0.90      0.94      0.92      5035\n",
            "\n",
            "    accuracy                           0.92     10000\n",
            "   macro avg       0.92      0.91      0.91     10000\n",
            "weighted avg       0.92      0.92      0.91     10000\n",
            "\n",
            "313/313 [==============================] - 1s 2ms/step\n",
            "CNN Model Evaluation (Embedding 2):\n",
            "              precision    recall  f1-score   support\n",
            "\n",
            "           0       0.92      0.93      0.93      4965\n",
            "           1       0.93      0.93      0.93      5035\n",
            "\n",
            "    accuracy                           0.93     10000\n",
            "   macro avg       0.93      0.93      0.93     10000\n",
            "weighted avg       0.93      0.93      0.93     10000\n",
            "\n",
            "313/313 [==============================] - 1s 2ms/step\n",
            "CNN Model Evaluation (Embedding 3):\n",
            "              precision    recall  f1-score   support\n",
            "\n",
            "           0       0.90      0.93      0.91      4965\n",
            "           1       0.93      0.89      0.91      5035\n",
            "\n",
            "    accuracy                           0.91     10000\n",
            "   macro avg       0.91      0.91      0.91     10000\n",
            "weighted avg       0.91      0.91      0.91     10000\n",
            "\n"
          ]
        }
      ]
    },
    {
      "cell_type": "markdown",
      "source": [
        "# Testing the models on new data"
      ],
      "metadata": {
        "id": "ggKPsfFvs8jf"
      }
    },
    {
      "cell_type": "code",
      "source": [
        "!pip install ko-ww-stopwords\n",
        "!pip install kr-sentence\n",
        "!python -m spacy download ko_core_news_md\n",
        "!pip install konlpy"
      ],
      "metadata": {
        "colab": {
          "base_uri": "https://localhost:8080/",
          "height": 371
        },
        "id": "oQ74sZ88t2Uh",
        "outputId": "a5ea1831-92c3-40ff-d447-c83b2ae7e4da"
      },
      "execution_count": null,
      "outputs": [
        {
          "output_type": "error",
          "ename": "NotImplementedError",
          "evalue": "ignored",
          "traceback": [
            "\u001b[0;31m---------------------------------------------------------------------------\u001b[0m",
            "\u001b[0;31mNotImplementedError\u001b[0m                       Traceback (most recent call last)",
            "\u001b[0;32m<ipython-input-119-4417106a15fe>\u001b[0m in \u001b[0;36m<cell line: 1>\u001b[0;34m()\u001b[0m\n\u001b[0;32m----> 1\u001b[0;31m \u001b[0mget_ipython\u001b[0m\u001b[0;34m(\u001b[0m\u001b[0;34m)\u001b[0m\u001b[0;34m.\u001b[0m\u001b[0msystem\u001b[0m\u001b[0;34m(\u001b[0m\u001b[0;34m'pip install ko-ww-stopwords'\u001b[0m\u001b[0;34m)\u001b[0m\u001b[0;34m\u001b[0m\u001b[0;34m\u001b[0m\u001b[0m\n\u001b[0m\u001b[1;32m      2\u001b[0m \u001b[0mget_ipython\u001b[0m\u001b[0;34m(\u001b[0m\u001b[0;34m)\u001b[0m\u001b[0;34m.\u001b[0m\u001b[0msystem\u001b[0m\u001b[0;34m(\u001b[0m\u001b[0;34m'pip install kr-sentence'\u001b[0m\u001b[0;34m)\u001b[0m\u001b[0;34m\u001b[0m\u001b[0;34m\u001b[0m\u001b[0m\n\u001b[1;32m      3\u001b[0m \u001b[0mget_ipython\u001b[0m\u001b[0;34m(\u001b[0m\u001b[0;34m)\u001b[0m\u001b[0;34m.\u001b[0m\u001b[0msystem\u001b[0m\u001b[0;34m(\u001b[0m\u001b[0;34m'python -m spacy download ko_core_news_md'\u001b[0m\u001b[0;34m)\u001b[0m\u001b[0;34m\u001b[0m\u001b[0;34m\u001b[0m\u001b[0m\n\u001b[1;32m      4\u001b[0m \u001b[0mget_ipython\u001b[0m\u001b[0;34m(\u001b[0m\u001b[0;34m)\u001b[0m\u001b[0;34m.\u001b[0m\u001b[0msystem\u001b[0m\u001b[0;34m(\u001b[0m\u001b[0;34m'pip install konlpy'\u001b[0m\u001b[0;34m)\u001b[0m\u001b[0;34m\u001b[0m\u001b[0;34m\u001b[0m\u001b[0m\n",
            "\u001b[0;32m/usr/local/lib/python3.9/dist-packages/google/colab/_shell.py\u001b[0m in \u001b[0;36msystem\u001b[0;34m(self, *args, **kwargs)\u001b[0m\n\u001b[1;32m     97\u001b[0m       \u001b[0mkwargs\u001b[0m\u001b[0;34m.\u001b[0m\u001b[0mupdate\u001b[0m\u001b[0;34m(\u001b[0m\u001b[0;34m{\u001b[0m\u001b[0;34m'also_return_output'\u001b[0m\u001b[0;34m:\u001b[0m \u001b[0;32mTrue\u001b[0m\u001b[0;34m}\u001b[0m\u001b[0;34m)\u001b[0m\u001b[0;34m\u001b[0m\u001b[0;34m\u001b[0m\u001b[0m\n\u001b[1;32m     98\u001b[0m \u001b[0;34m\u001b[0m\u001b[0m\n\u001b[0;32m---> 99\u001b[0;31m     \u001b[0moutput\u001b[0m \u001b[0;34m=\u001b[0m \u001b[0m_system_commands\u001b[0m\u001b[0;34m.\u001b[0m\u001b[0m_system_compat\u001b[0m\u001b[0;34m(\u001b[0m\u001b[0mself\u001b[0m\u001b[0;34m,\u001b[0m \u001b[0;34m*\u001b[0m\u001b[0margs\u001b[0m\u001b[0;34m,\u001b[0m \u001b[0;34m**\u001b[0m\u001b[0mkwargs\u001b[0m\u001b[0;34m)\u001b[0m  \u001b[0;31m# pylint:disable=protected-access\u001b[0m\u001b[0;34m\u001b[0m\u001b[0;34m\u001b[0m\u001b[0m\n\u001b[0m\u001b[1;32m    100\u001b[0m \u001b[0;34m\u001b[0m\u001b[0m\n\u001b[1;32m    101\u001b[0m     \u001b[0;32mif\u001b[0m \u001b[0mpip_warn\u001b[0m\u001b[0;34m:\u001b[0m\u001b[0;34m\u001b[0m\u001b[0;34m\u001b[0m\u001b[0m\n",
            "\u001b[0;32m/usr/local/lib/python3.9/dist-packages/google/colab/_system_commands.py\u001b[0m in \u001b[0;36m_system_compat\u001b[0;34m(shell, cmd, also_return_output)\u001b[0m\n\u001b[1;32m    451\u001b[0m   \u001b[0;31m# is expected to call this function, thus adding one level of nesting to the\u001b[0m\u001b[0;34m\u001b[0m\u001b[0;34m\u001b[0m\u001b[0m\n\u001b[1;32m    452\u001b[0m   \u001b[0;31m# stack.\u001b[0m\u001b[0;34m\u001b[0m\u001b[0;34m\u001b[0m\u001b[0m\n\u001b[0;32m--> 453\u001b[0;31m   result = _run_command(\n\u001b[0m\u001b[1;32m    454\u001b[0m       \u001b[0mshell\u001b[0m\u001b[0;34m.\u001b[0m\u001b[0mvar_expand\u001b[0m\u001b[0;34m(\u001b[0m\u001b[0mcmd\u001b[0m\u001b[0;34m,\u001b[0m \u001b[0mdepth\u001b[0m\u001b[0;34m=\u001b[0m\u001b[0;36m2\u001b[0m\u001b[0;34m)\u001b[0m\u001b[0;34m,\u001b[0m \u001b[0mclear_streamed_output\u001b[0m\u001b[0;34m=\u001b[0m\u001b[0;32mFalse\u001b[0m\u001b[0;34m\u001b[0m\u001b[0;34m\u001b[0m\u001b[0m\n\u001b[1;32m    455\u001b[0m   )\n",
            "\u001b[0;32m/usr/local/lib/python3.9/dist-packages/google/colab/_system_commands.py\u001b[0m in \u001b[0;36m_run_command\u001b[0;34m(cmd, clear_streamed_output)\u001b[0m\n\u001b[1;32m    165\u001b[0m   \u001b[0mlocale_encoding\u001b[0m \u001b[0;34m=\u001b[0m \u001b[0mlocale\u001b[0m\u001b[0;34m.\u001b[0m\u001b[0mgetpreferredencoding\u001b[0m\u001b[0;34m(\u001b[0m\u001b[0;34m)\u001b[0m\u001b[0;34m\u001b[0m\u001b[0;34m\u001b[0m\u001b[0m\n\u001b[1;32m    166\u001b[0m   \u001b[0;32mif\u001b[0m \u001b[0mlocale_encoding\u001b[0m \u001b[0;34m!=\u001b[0m \u001b[0m_ENCODING\u001b[0m\u001b[0;34m:\u001b[0m\u001b[0;34m\u001b[0m\u001b[0;34m\u001b[0m\u001b[0m\n\u001b[0;32m--> 167\u001b[0;31m     raise NotImplementedError(\n\u001b[0m\u001b[1;32m    168\u001b[0m         \u001b[0;34m'A UTF-8 locale is required. Got {}'\u001b[0m\u001b[0;34m.\u001b[0m\u001b[0mformat\u001b[0m\u001b[0;34m(\u001b[0m\u001b[0mlocale_encoding\u001b[0m\u001b[0;34m)\u001b[0m\u001b[0;34m\u001b[0m\u001b[0;34m\u001b[0m\u001b[0m\n\u001b[1;32m    169\u001b[0m     )\n",
            "\u001b[0;31mNotImplementedError\u001b[0m: A UTF-8 locale is required. Got ANSI_X3.4-1968"
          ]
        }
      ]
    },
    {
      "cell_type": "code",
      "source": [
        "from ko_ww_stopwords.stop_words import ko_ww_stop_words \n",
        "from ko_ww_stopwords.tools import is_stop_word, strip_outer_punct\n",
        "import spacy\n",
        "from konlpy.tag import Okt\n",
        "from nltk.stem import WordNetLemmatizer\n",
        "import re\n",
        "\n",
        "def preprocess_text(text):\n",
        "    # create a spacy nlp object\n",
        "    nlp = spacy.load(\"ko_core_news_md\")\n",
        "\n",
        "    # create a WordNetLemmatizer object\n",
        "    lemmatizer = WordNetLemmatizer()\n",
        "\n",
        "    # create a list of stop words\n",
        "    stop_words = set(ko_ww_stop_words)\n",
        "    # remove non-alphanumeric characters and extra whitespaces\n",
        "    # [^a-zA-Z\\s] doesnt apply to korean\n",
        "    # Remove special characters\n",
        "    text = re.sub(r'[^\\w\\s]', '', text)\n",
        "    # Remove excess whitespace\n",
        "    text = re.sub(r'\\s+', ' ', text)\n",
        "    # apply spacy nlp to tokenize and lemmatize the text\n",
        "    doc = nlp(text)\n",
        "\n",
        "    # tokenize korean sentence\n",
        "    okt = Okt()\n",
        "    tokens = okt.morphs(text, stem=True)\n",
        "\n",
        "    # filter out stop words\n",
        "    filtered_tokens = [token for token in tokens if token not in stop_words]\n",
        "\n",
        "    # join the tokens back into a string\n",
        "    processed_text = ' '.join(tokens)\n",
        "\n",
        "    return processed_text"
      ],
      "metadata": {
        "id": "e9fnQGRRu3tt"
      },
      "execution_count": null,
      "outputs": []
    },
    {
      "cell_type": "code",
      "source": [
        "def prepare_text(text, tokenizer, max_length):\n",
        "\n",
        "    text = preprocess_text(text)\n",
        "\n",
        "    text_seq = tokenizer.texts_to_sequences([text])\n",
        "    text_padded = pad_sequences(text_seq, maxlen=max_length, padding='post', truncating='post')\n",
        "    return text_padded"
      ],
      "metadata": {
        "id": "EZDzpfN1s9nc"
      },
      "execution_count": null,
      "outputs": []
    },
    {
      "cell_type": "code",
      "source": [
        "              # the food here does not taste good, very salty, and very spicy\n",
        "negative_text = \"음식이 너무 맛 없고 너무 짜고 너무 매워요.\"\n",
        "negative_padded = prepare_text(negative_text, tokenizer, max_length)"
      ],
      "metadata": {
        "id": "qEPIiXC1tA8T"
      },
      "execution_count": null,
      "outputs": []
    },
    {
      "cell_type": "code",
      "source": [
        "# Sequential model\n",
        "sequential_prediction = (model.predict(negative_padded) > 0.5).astype(\"int32\")\n",
        "print(f\"Sequential Model Prediction: {sequential_prediction[0][0]}\")\n",
        "\n",
        "# RNN model\n",
        "rnn_prediction = (RNNmodel.predict(negative_padded) > 0.5).astype(\"int32\")\n",
        "print(f\"RNN Model Prediction: {rnn_prediction[0][0]}\")\n",
        "\n",
        "# CNN model\n",
        "cnn_prediction = (CNNmodel.predict(negative_padded) > 0.5).astype(\"int32\")\n",
        "print(f\"CNN Model Prediction: {cnn_prediction[0][0]}\")"
      ],
      "metadata": {
        "colab": {
          "base_uri": "https://localhost:8080/"
        },
        "id": "WfeYxx2EtBxb",
        "outputId": "a3d2f58d-4570-4990-fcde-53b7d92ed93a"
      },
      "execution_count": null,
      "outputs": [
        {
          "output_type": "stream",
          "name": "stdout",
          "text": [
            "1/1 [==============================] - 0s 38ms/step\n",
            "Sequential Model Prediction: 1\n",
            "1/1 [==============================] - 0s 35ms/step\n",
            "RNN Model Prediction: 0\n",
            "1/1 [==============================] - 0s 20ms/step\n",
            "CNN Model Prediction: 0\n"
          ]
        }
      ]
    },
    {
      "cell_type": "code",
      "source": [
        "                # this place’s hamburger and French fries are really good. My boyfriend and I come here often.\n",
        "positive_text = \"여기 햄버거 하고 감자튀김 되게 맛잇습니다. 여기는 저 남자 친구랑 자주 와요 💓\"\n",
        "positive_padded = prepare_text(positive_text, tokenizer, max_length)"
      ],
      "metadata": {
        "id": "H--uN2yjvsUL"
      },
      "execution_count": null,
      "outputs": []
    },
    {
      "cell_type": "code",
      "source": [
        "# Sequential model\n",
        "sequential_prediction = (model.predict(positive_padded) > 0.5).astype(\"int32\")\n",
        "print(f\"Sequential Model Prediction: {sequential_prediction[0][0]}\")\n",
        "\n",
        "# CNN model\n",
        "cnn_prediction = (CNNmodel.predict(positive_padded) > 0.5).astype(\"int32\")\n",
        "print(f\"CNN Model Prediction: {cnn_prediction[0][0]}\")\n",
        "\n",
        "# RNN model\n",
        "rnn_prediction = (RNNmodel.predict(positive_padded) > 0.5).astype(\"int32\")\n",
        "print(f\"RNN Model Prediction: {rnn_prediction[0][0]}\")"
      ],
      "metadata": {
        "colab": {
          "base_uri": "https://localhost:8080/"
        },
        "id": "etZJKW_EwFz9",
        "outputId": "76e57dfe-6d16-4326-b5be-ef091f450734"
      },
      "execution_count": null,
      "outputs": [
        {
          "output_type": "stream",
          "name": "stdout",
          "text": [
            "1/1 [==============================] - 0s 37ms/step\n",
            "Sequential Model Prediction: 1\n",
            "1/1 [==============================] - 0s 21ms/step\n",
            "CNN Model Prediction: 1\n",
            "1/1 [==============================] - 0s 35ms/step\n",
            "RNN Model Prediction: 0\n"
          ]
        }
      ]
    },
    {
      "cell_type": "markdown",
      "source": [
        "# Analysis of the performance of various approaches \n",
        "\n",
        "## General Notes\n",
        "This assignment was particularly fun and tricky due to the fact that the reviews were all in Korean. This meant that I had to pre-process for another language, which was really fun to do. I had to use specific libraries to help me with the preprocessing, notably: \n",
        "\n",
        "- konlpy (for tokenization): https://konlpy.org/en/latest/\n",
        "- ko_ww_stopwords (for korean stop words): https://pypi.org/project/ko-ww-stopwords/\n",
        "- ko_core_news_md in spacy (tokenize & lemmatize pipeline): https://spacy.io/models/ko\n",
        "\n",
        "### issues with data\n",
        "I also had to deal with the issue that the dataset was so large that I could not feasibly use all of it for the assignment. The original dataset had over 600,000 rows. applying the preprocessing to every row took so long I was not able to finish computation over night. To remedy this, I removed the ambiguious reviews, and then took the first 50,000 rows to use for training models. \n",
        "\n",
        "### skewed data\n",
        "This went well until I realized that the data was so skewed, that the model could just guess 1 every time and achieve 90% accuracy. So I had to go back to the data pre-processing notebook, and create a dataset of 50,000 rows where 50% (25,000) rows were positive examples, and 50% were negative examples. I concatenated 2 dataframes (one with 25,000 positive examples and another with 25,000 negative examples) to create this dataset. In order to ensure that the clear divide of data didn't impact training, I shuffled all the rows. \n",
        "\n",
        "### training times and crashes.\n",
        "The 50,000 dataset worked well with the Sequential model, but the RNN and CNN models would cause the colab runtime to crash, so I had to create smaller datasets for them, consisting of 5k and 10k rows. Each of these datasets are also 50% positive, 50% negative, and randomly shuffled. \n",
        "\n",
        "\n",
        "## Sequential\n",
        "The sequential model, albiet the simplest, performed very well!\n",
        "it was 95% accurate without equalizing the data. I thought this was likely due to the model always guessing positive, since the data was so skewed. \n",
        "\n",
        "I ended up equalizing the dataset so that there are 50% positive and 50% negative reviews. is less accurate after equalizing (around 90%), but more likely to be actually picking out features of the reviews instead of blindly guessing '1'.\n",
        "\n",
        "I tested the sequential model with the 10k dataset, the 5k dataset, and the 50k dataset. On the 5k dataset, I was getting 80% accuracy. On the 10k dataset, it was only getting 85% accuracy. On the 50k dataset, the model is getting around 90% accuracy. \n",
        "\n",
        "All other metrics were around 90% as well. Very solid for a \"simple\" model.\n",
        "\n",
        "The model trained in just over one minute. This was slower than the CNN, but way faster than the RNN. The metrics overall were slightly lower than CNN, but much greater than RNN. Even stand alone, metrics around 90% are good. \n",
        "\n",
        "## RNN\n",
        "The RNN models trained very slow. They took several minutes to train even 10 epochs, and the accuracy and metrics were not very outstanding. \n",
        "\n",
        "The notebook kept crashing on me for the large dataset I was using containing 50,000 rows. I tried saving the models in the notebook and only training one model at a time. Doing this I was able to train the RNN on the 50,000 row dataset. This ended up taking 3 hours, and still had an accuracy of around 48-50%. \n",
        "\n",
        " I ended up trimming the dataset by a factor of 10 so that I could reliably re-calculate the weights, and not crash the notebook. This RNN actually better metrics, with accuracy, f1, precision, and recall all around 50-60%. \n",
        "\n",
        "## CNN\n",
        "The CNN ran very well. I ended up being able to use the 5k  Accuracy was always in the 90-95% range. All other metrics were also in the 90-95% range. The model was able to be trained in under a minute even on the 50k dataset, much much faster than the RNN network. It outperformed the RNN in every regard.\n",
        "\n",
        "## Different embeddings\n",
        "The different embeddings didn't seem to impact the output very much. All of the metrics were in the low 90%, for the embeddings that were 10, 750, and 1000\n",
        "\n",
        "## New text: \n",
        "For fun, I asked my fiancee to generate a positive and negative review in Korean for a restaurant. The novel reviews were then pre-processed and fed into the models. The RNN and CNN predicted the negative review correctly, and the Sequential model and the CNN predicted the positive review correctly.  "
      ],
      "metadata": {
        "id": "CVvbQAZfXdhj"
      }
    },
    {
      "cell_type": "code",
      "source": [],
      "metadata": {
        "id": "vVWEuUkUSrMi"
      },
      "execution_count": null,
      "outputs": []
    }
  ]
}