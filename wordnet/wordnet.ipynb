{
 "cells": [
  {
   "attachments": {},
   "cell_type": "markdown",
   "metadata": {},
   "source": [
    "# WordNet Notebook\n",
    "\n",
    "#### Richard Padilla | Dr. Mazidi | CS 6301.M02 Spring 2023"
   ]
  },
  {
   "attachments": {},
   "cell_type": "markdown",
   "metadata": {},
   "source": [
    "1. Give a summary of WordNet\n",
    "\n",
    "WordNet is a large lexical database. It is organized using synsets or synonym sets to group words based on their semantic meaning. WordNet also tags words with their part of speech, provides definitions, examples, and lemmas for the words in the database. WordNet also categorizes its words into hypernyms, holonyms, meronyms, hyponyms, and antonyms. WordNet is very useful for NLP processing and analysis. "
   ]
  },
  {
   "attachments": {},
   "cell_type": "markdown",
   "metadata": {},
   "source": [
    "2. Select a noun. Output all synsets. "
   ]
  },
  {
   "cell_type": "code",
   "execution_count": 5,
   "metadata": {},
   "outputs": [
    {
     "data": {
      "text/plain": [
       "[Synset('brass.n.01'),\n",
       " Synset('brass.n.02'),\n",
       " Synset('administration.n.02'),\n",
       " Synset('boldness.n.02'),\n",
       " Synset('brass.n.05'),\n",
       " Synset('brass_section.n.01'),\n",
       " Synset('brass.n.07')]"
      ]
     },
     "execution_count": 5,
     "metadata": {},
     "output_type": "execute_result"
    }
   ],
   "source": [
    "from nltk.corpus import wordnet as wn\n",
    "\n",
    "wn.synsets(\"brass\")"
   ]
  },
  {
   "attachments": {},
   "cell_type": "markdown",
   "metadata": {},
   "source": [
    "3. Select one synset from the list of synsets. Extract its definition, usage examples, and lemmas."
   ]
  },
  {
   "cell_type": "code",
   "execution_count": 6,
   "metadata": {},
   "outputs": [],
   "source": [
    "syn_noun = \"brass.n.02\""
   ]
  },
  {
   "cell_type": "code",
   "execution_count": 7,
   "metadata": {},
   "outputs": [
    {
     "data": {
      "text/plain": [
       "'a wind instrument that consists of a brass tube (usually of variable length) that is blown by means of a cup-shaped or funnel-shaped mouthpiece'"
      ]
     },
     "execution_count": 7,
     "metadata": {},
     "output_type": "execute_result"
    }
   ],
   "source": [
    "wn.synset(syn_noun).definition()"
   ]
  },
  {
   "cell_type": "code",
   "execution_count": 8,
   "metadata": {},
   "outputs": [
    {
     "data": {
      "text/plain": [
       "[]"
      ]
     },
     "execution_count": 8,
     "metadata": {},
     "output_type": "execute_result"
    }
   ],
   "source": [
    "wn.synset(syn_noun).examples()"
   ]
  },
  {
   "cell_type": "code",
   "execution_count": 9,
   "metadata": {},
   "outputs": [
    {
     "data": {
      "text/plain": [
       "[Lemma('brass.n.02.brass'), Lemma('brass.n.02.brass_instrument')]"
      ]
     },
     "execution_count": 9,
     "metadata": {},
     "output_type": "execute_result"
    }
   ],
   "source": [
    "wn.synset(syn_noun).lemmas()"
   ]
  },
  {
   "attachments": {},
   "cell_type": "markdown",
   "metadata": {},
   "source": [
    "From your selected synset, traverse up the WordNet hierarchy as far as you can, outputting the\n",
    "synsets as you go."
   ]
  },
  {
   "cell_type": "code",
   "execution_count": 10,
   "metadata": {},
   "outputs": [
    {
     "name": "stdout",
     "output_type": "stream",
     "text": [
      "Synset('wind_instrument.n.01')\n",
      "Synset('musical_instrument.n.01')\n",
      "Synset('device.n.01')\n",
      "Synset('instrumentality.n.03')\n",
      "Synset('artifact.n.01')\n",
      "Synset('whole.n.02')\n",
      "Synset('object.n.01')\n",
      "Synset('physical_entity.n.01')\n",
      "Synset('entity.n.01')\n"
     ]
    }
   ],
   "source": [
    "# From your selected synset, traverse up the WordNet hierarchy as far as you can, outputting the\n",
    "# synsets as you go.\n",
    "\n",
    "brass = wn.synset(syn_noun)\n",
    "hyp = brass.hypernyms()[0]\n",
    "top = wn.synset('entity.n.01')\n",
    "while hyp:\n",
    "    print(hyp)\n",
    "    if hyp == top:\n",
    "        break\n",
    "    if hyp.hypernyms():\n",
    "        hyp = hyp.hypernyms()[0]\n"
   ]
  },
  {
   "attachments": {},
   "cell_type": "markdown",
   "metadata": {},
   "source": [
    "Write a couple of sentences observing the way that WordNet is organized for\n",
    "nouns.\n",
    "\n",
    "WordNet categorizes nouns really well! It appears to categorize nouns in a heirarchical manner from the most specific instance of the noun up to the most abstract version, an entity. I did not think of 'artifact' or 'physical entity' when I think of a brass instrument, but it is indeed both of these. "
   ]
  },
  {
   "attachments": {},
   "cell_type": "markdown",
   "metadata": {},
   "source": [
    "4. Output the following (or an empty list if none exist): hypernyms, hyponyms, meronyms,\n",
    "holonyms, antonym. "
   ]
  },
  {
   "cell_type": "code",
   "execution_count": 11,
   "metadata": {},
   "outputs": [
    {
     "data": {
      "text/plain": [
       "[Synset('wind_instrument.n.01')]"
      ]
     },
     "execution_count": 11,
     "metadata": {},
     "output_type": "execute_result"
    }
   ],
   "source": [
    "brass.hypernyms()"
   ]
  },
  {
   "cell_type": "code",
   "execution_count": 12,
   "metadata": {},
   "outputs": [
    {
     "data": {
      "text/plain": [
       "[Synset('baritone.n.03'),\n",
       " Synset('bass_horn.n.01'),\n",
       " Synset('bugle.n.01'),\n",
       " Synset('clarion.n.01'),\n",
       " Synset('cornet.n.01'),\n",
       " Synset('flugelhorn.n.01'),\n",
       " Synset('french_horn.n.01'),\n",
       " Synset('saxhorn.n.01'),\n",
       " Synset('trombone.n.01')]"
      ]
     },
     "execution_count": 12,
     "metadata": {},
     "output_type": "execute_result"
    }
   ],
   "source": [
    "brass.hyponyms()"
   ]
  },
  {
   "cell_type": "code",
   "execution_count": 13,
   "metadata": {},
   "outputs": [
    {
     "data": {
      "text/plain": [
       "[Synset('valve.n.02')]"
      ]
     },
     "execution_count": 13,
     "metadata": {},
     "output_type": "execute_result"
    }
   ],
   "source": [
    "brass.part_meronyms()"
   ]
  },
  {
   "cell_type": "code",
   "execution_count": 14,
   "metadata": {},
   "outputs": [
    {
     "data": {
      "text/plain": [
       "[]"
      ]
     },
     "execution_count": 14,
     "metadata": {},
     "output_type": "execute_result"
    }
   ],
   "source": [
    "brass.part_holonyms()"
   ]
  },
  {
   "cell_type": "code",
   "execution_count": 15,
   "metadata": {},
   "outputs": [
    {
     "data": {
      "text/plain": [
       "[]"
      ]
     },
     "execution_count": 15,
     "metadata": {},
     "output_type": "execute_result"
    }
   ],
   "source": [
    "brass.lemmas()[0].antonyms()"
   ]
  },
  {
   "attachments": {},
   "cell_type": "markdown",
   "metadata": {},
   "source": [
    "5. Select a verb. Output all synsets"
   ]
  },
  {
   "cell_type": "code",
   "execution_count": 16,
   "metadata": {},
   "outputs": [
    {
     "data": {
      "text/plain": [
       "[Synset('cryptography.n.02'),\n",
       " Synset('code.v.01'),\n",
       " Synset('code.v.02'),\n",
       " Synset('gull.v.02'),\n",
       " Synset('tease.v.02')]"
      ]
     },
     "execution_count": 16,
     "metadata": {},
     "output_type": "execute_result"
    }
   ],
   "source": [
    "wn.synsets(\"coding\")"
   ]
  },
  {
   "attachments": {},
   "cell_type": "markdown",
   "metadata": {},
   "source": [
    "6. Select one synset from the list of synsets."
   ]
  },
  {
   "cell_type": "code",
   "execution_count": 17,
   "metadata": {},
   "outputs": [],
   "source": [
    "syn_verb = \"code.v.02\""
   ]
  },
  {
   "attachments": {},
   "cell_type": "markdown",
   "metadata": {},
   "source": [
    "Extract its definition, usage examples, and lemmas."
   ]
  },
  {
   "cell_type": "code",
   "execution_count": 18,
   "metadata": {},
   "outputs": [
    {
     "data": {
      "text/plain": [
       "'convert ordinary language into code'"
      ]
     },
     "execution_count": 18,
     "metadata": {},
     "output_type": "execute_result"
    }
   ],
   "source": [
    "wn.synset(syn_verb).definition()"
   ]
  },
  {
   "cell_type": "code",
   "execution_count": 19,
   "metadata": {},
   "outputs": [
    {
     "data": {
      "text/plain": [
       "['We should encode the message for security reasons']"
      ]
     },
     "execution_count": 19,
     "metadata": {},
     "output_type": "execute_result"
    }
   ],
   "source": [
    "wn.synset(syn_verb).examples()"
   ]
  },
  {
   "cell_type": "code",
   "execution_count": 20,
   "metadata": {},
   "outputs": [
    {
     "data": {
      "text/plain": [
       "[Lemma('code.v.02.code'),\n",
       " Lemma('code.v.02.encipher'),\n",
       " Lemma('code.v.02.cipher'),\n",
       " Lemma('code.v.02.cypher'),\n",
       " Lemma('code.v.02.encrypt'),\n",
       " Lemma('code.v.02.inscribe'),\n",
       " Lemma('code.v.02.write_in_code')]"
      ]
     },
     "execution_count": 20,
     "metadata": {},
     "output_type": "execute_result"
    }
   ],
   "source": [
    "wn.synset(syn_verb).lemmas()"
   ]
  },
  {
   "attachments": {},
   "cell_type": "markdown",
   "metadata": {},
   "source": [
    "From your selected synset, traverse up the WordNet hierarchy as far as you can, outputting the\n",
    "synsets as you go."
   ]
  },
  {
   "cell_type": "code",
   "execution_count": 21,
   "metadata": {},
   "outputs": [
    {
     "data": {
      "text/plain": [
       "[Synset('encode.v.01'), Synset('convert.v.02'), Synset('change.v.01')]"
      ]
     },
     "execution_count": 21,
     "metadata": {},
     "output_type": "execute_result"
    }
   ],
   "source": [
    "code = wn.synset(syn_verb)\n",
    "hyper = lambda s: s.hypernyms()\n",
    "list(code.closure(hyper))"
   ]
  },
  {
   "attachments": {},
   "cell_type": "markdown",
   "metadata": {},
   "source": [
    "Write a couple of sentences observing the way that WordNet is organized for\n",
    "verbs. \n",
    "\n",
    "WordNet appears to organize verbs in nearly the same way that it organizes nouns. WordNet lists verbs from the most specific instance of the action to the most broad or abstract version of that action. It makes sense that coding can be thought of as encoding (`encode.v.01`) logic in a language, converting (`convert.v.02`) human language to machine readable language, or enacting some change (`change.v.01`) in the machine. "
   ]
  },
  {
   "attachments": {},
   "cell_type": "markdown",
   "metadata": {},
   "source": [
    "7. Use morphy to find as many different forms of the word as you can. "
   ]
  },
  {
   "cell_type": "code",
   "execution_count": 22,
   "metadata": {},
   "outputs": [
    {
     "data": {
      "text/plain": [
       "'code'"
      ]
     },
     "execution_count": 22,
     "metadata": {},
     "output_type": "execute_result"
    }
   ],
   "source": [
    "wn.morphy(\"coding\", wn.VERB)"
   ]
  },
  {
   "attachments": {},
   "cell_type": "markdown",
   "metadata": {},
   "source": [
    "8. Select two words that you think might be similar."
   ]
  },
  {
   "cell_type": "code",
   "execution_count": 23,
   "metadata": {},
   "outputs": [],
   "source": [
    "word_one = \"whale\"\n",
    "word_two = \"fish\""
   ]
  },
  {
   "attachments": {},
   "cell_type": "markdown",
   "metadata": {},
   "source": [
    "Find the specific synsets you are interested in."
   ]
  },
  {
   "cell_type": "code",
   "execution_count": 24,
   "metadata": {},
   "outputs": [
    {
     "name": "stdout",
     "output_type": "stream",
     "text": [
      "whale synsets are: [Synset('giant.n.04'), Synset('whale.n.02'), Synset('whale.v.01')]\n",
      "\n",
      "fish synsets are: [Synset('fish.n.01'), Synset('fish.n.02'), Synset('pisces.n.02'), Synset('pisces.n.01'), Synset('fish.v.01'), Synset('fish.v.02')]\n"
     ]
    }
   ],
   "source": [
    "syn_one = wn.synsets(word_one)\n",
    "syn_two = wn.synsets(word_two)\n",
    "print(word_one + \" synsets are:\", syn_one)\n",
    "print(\"\\n\" + word_two + \" synsets are:\", syn_two)"
   ]
  },
  {
   "attachments": {},
   "cell_type": "markdown",
   "metadata": {},
   "source": [
    "Run the Wu-Palmer similarity metric"
   ]
  },
  {
   "cell_type": "code",
   "execution_count": 25,
   "metadata": {},
   "outputs": [
    {
     "name": "stdout",
     "output_type": "stream",
     "text": [
      "fish is: any of the larger cetacean mammals having a streamlined body and breathing through a blowhole on the head\n",
      "\n",
      "whale is: any of various mostly cold-blooded aquatic vertebrates usually having scales and breathing through gills\n"
     ]
    },
    {
     "data": {
      "text/plain": [
       "0.72"
      ]
     },
     "execution_count": 25,
     "metadata": {},
     "output_type": "execute_result"
    }
   ],
   "source": [
    "fish = syn_one[1]\n",
    "whale = syn_two[0]\n",
    "\n",
    "print(\"fish is:\", fish.definition())\n",
    "print(\"\\nwhale is:\", whale.definition())\n",
    "\n",
    "fish.wup_similarity(whale)"
   ]
  },
  {
   "attachments": {},
   "cell_type": "markdown",
   "metadata": {},
   "source": [
    "Run the Lesk algorithm."
   ]
  },
  {
   "cell_type": "code",
   "execution_count": 26,
   "metadata": {},
   "outputs": [
    {
     "data": {
      "text/plain": [
       "Synset('whale.n.02')"
      ]
     },
     "execution_count": 26,
     "metadata": {},
     "output_type": "execute_result"
    }
   ],
   "source": [
    "from nltk.wsd import lesk\n",
    "from nltk.tokenize import word_tokenize\n",
    "\n",
    "context_sentence = word_tokenize(\"that whale is swimming in the ocean.\")\n",
    "ambiguous = \"whale\"\n",
    "lesk(context_sentence,ambiguous, \"n\")"
   ]
  },
  {
   "cell_type": "code",
   "execution_count": 27,
   "metadata": {},
   "outputs": [
    {
     "data": {
      "text/plain": [
       "Synset('fish.v.02')"
      ]
     },
     "execution_count": 27,
     "metadata": {},
     "output_type": "execute_result"
    }
   ],
   "source": [
    "context_sentence = word_tokenize(\"I guess you just have to fish around for the wallet.\")\n",
    "ambiguous = \"fish\"\n",
    "lesk(context_sentence, ambiguous, 'v')"
   ]
  },
  {
   "attachments": {},
   "cell_type": "markdown",
   "metadata": {},
   "source": [
    "Write a couple of sentences with your observations.\n",
    "\n",
    "Using whale and fish to compare with wu palmer similarity, it makes sense to see that they had a similarity of `0.72`. Since they are both creatures that swim in the ocean they would likely have a common noun ancestor close to each other, despite one being a mammal. \n",
    "\n",
    "It is cool to see that running the lesk algorithm on whale and fish produced the correct versions of the word (noun and verb respectively) based on their context in the sentence."
   ]
  },
  {
   "attachments": {},
   "cell_type": "markdown",
   "metadata": {},
   "source": [
    "9. Write a couple of sentences about SentiWordNet, describing its functionality and possible use\n",
    "cases.\n",
    "\n",
    "SentiWordNet adds functionality to WordNet by assigning positive, negative, and neutral (objective) sentiment values to each word. Using SentiWordNet we can analyze reviews for a product or try to measure sentiment from tweets regarding a political or news event."
   ]
  },
  {
   "attachments": {},
   "cell_type": "markdown",
   "metadata": {},
   "source": [
    "Select an emotionally charged word."
   ]
  },
  {
   "cell_type": "code",
   "execution_count": 31,
   "metadata": {},
   "outputs": [
    {
     "data": {
      "text/plain": [
       "[Synset('terrify.v.01'), Synset('panicky.s.01')]"
      ]
     },
     "execution_count": 31,
     "metadata": {},
     "output_type": "execute_result"
    }
   ],
   "source": [
    "emotional_word = \"terrified\"\n",
    "wn.synsets(emotional_word)"
   ]
  },
  {
   "attachments": {},
   "cell_type": "markdown",
   "metadata": {},
   "source": [
    "Find its senti-synsets and output the polarity scores\n",
    "for each word."
   ]
  },
  {
   "cell_type": "code",
   "execution_count": 32,
   "metadata": {},
   "outputs": [
    {
     "name": "stdout",
     "output_type": "stream",
     "text": [
      "Positive score =  0.25\n",
      "Negative score =  0.0\n",
      "Objective score =  0.75\n"
     ]
    }
   ],
   "source": [
    "from nltk.corpus import sentiwordnet as swn\n",
    "\n",
    "ews = swn.senti_synset('terrify.v.01')\n",
    "print(\"Positive score = \", ews.pos_score())\n",
    "print(\"Negative score = \", ews.neg_score())\n",
    "print(\"Objective score = \", ews.obj_score())"
   ]
  },
  {
   "attachments": {},
   "cell_type": "markdown",
   "metadata": {},
   "source": [
    "Make up a sentence."
   ]
  },
  {
   "cell_type": "code",
   "execution_count": 34,
   "metadata": {},
   "outputs": [],
   "source": [
    "made_up_sentence = \"the new game terror from the deep is really great!\""
   ]
  },
  {
   "attachments": {},
   "cell_type": "markdown",
   "metadata": {},
   "source": [
    "Output the polarity for each word in the sentence. "
   ]
  },
  {
   "cell_type": "code",
   "execution_count": 60,
   "metadata": {},
   "outputs": [
    {
     "name": "stdout",
     "output_type": "stream",
     "text": [
      "new.a.01 polarities:\n",
      "Positive: 0.375\tNegative: 0.0\n",
      "\n",
      "game.n.01 polarities:\n",
      "Positive: 0.0\tNegative: 0.0\n",
      "\n",
      "panic.n.01 polarities:\n",
      "Positive: 0.25\tNegative: 0.75\n",
      "\n",
      "deep.n.01 polarities:\n",
      "Positive: 0.0\tNegative: 0.0\n",
      "\n",
      "be.v.01 polarities:\n",
      "Positive: 0.25\tNegative: 0.125\n",
      "\n",
      "truly.r.01 polarities:\n",
      "Positive: 0.625\tNegative: 0.0\n",
      "\n",
      "\n",
      "--------------------------------------------\n",
      "total neg counts\ttotal pos counts\n",
      "0.875 \t\t\t 1.5\n"
     ]
    }
   ],
   "source": [
    "neg = 0\n",
    "pos = 0\n",
    "tokens = made_up_sentence.split()\n",
    "for token in tokens:\n",
    "    syn_list = list(swn.senti_synsets(token))\n",
    "    if syn_list:\n",
    "        syn = syn_list[0]\n",
    "        neg += syn.neg_score()\n",
    "        pos += syn.pos_score()\n",
    "        print(syn.synset.name() + \" polarities:\\nPositive: \" + str(syn.pos_score()) + \"\\tNegative: \" + str(syn.neg_score()) + \"\\n\")\n",
    "    \n",
    "print(\"\\n--------------------------------------------\\ntotal neg counts\\ttotal pos counts\")\n",
    "print(neg, '\\t\\t\\t', pos)"
   ]
  },
  {
   "attachments": {},
   "cell_type": "markdown",
   "metadata": {},
   "source": [
    "Write a couple of sentences about your observations of the scores and the utility of knowing these scores in an NLP application.\n",
    "\n",
    "Honestly, some of the scores assigned to words in SentiWordNet don't seem right to me. I guess that is part of the problem with sentiment analysis, in that the severity of \"positivity\" and \"negativity\" of a word may differ from person to person. It is a bit subjective. However, knowing these score in an NLP application can be useful when you want to capture how the speaker or author is feeling. "
   ]
  },
  {
   "attachments": {},
   "cell_type": "markdown",
   "metadata": {},
   "source": [
    "10. Write a couple of sentences about what a collocation is.\n",
    "\n",
    "A collocation is a gropuing of words that when put together, have a meaning that is useful and greater than the sum of their individual parts. An example of a collocation would be vice president. Both of these words have independent meaning, but when used in this order they have a combined meaning that refers to the 2nd in command of the United States of America. "
   ]
  },
  {
   "attachments": {},
   "cell_type": "markdown",
   "metadata": {},
   "source": [
    "Output collocations for text4, the Inaugural corpus."
   ]
  },
  {
   "cell_type": "code",
   "execution_count": 67,
   "metadata": {},
   "outputs": [
    {
     "name": "stdout",
     "output_type": "stream",
     "text": [
      "United States; fellow citizens; years ago; four years; Federal\n",
      "Government; General Government; American people; Vice President; God\n",
      "bless; Chief Justice; one another; fellow Americans; Old World;\n",
      "Almighty God; Fellow citizens; Chief Magistrate; every citizen; Indian\n",
      "tribes; public debt; foreign nations\n"
     ]
    }
   ],
   "source": [
    "from nltk.book import *\n",
    "text4\n",
    "text4.collocations()"
   ]
  },
  {
   "attachments": {},
   "cell_type": "markdown",
   "metadata": {},
   "source": [
    "Select one of the collocations identified by NLTK. Calculate mutual\n",
    "information."
   ]
  },
  {
   "cell_type": "code",
   "execution_count": 69,
   "metadata": {},
   "outputs": [
    {
     "name": "stdout",
     "output_type": "stream",
     "text": [
      "p(fellow citizens) =  0.006084788029925187\n",
      "p(fellow) =  0.013665835411471322\n",
      "p(citizens) =  0.026932668329177057\n",
      "pmi =  4.0472042737811735\n"
     ]
    }
   ],
   "source": [
    "import math\n",
    "\n",
    "colloc = \"fellow citizens\"\n",
    "text = ' '.join(text4.tokens)\n",
    "vocab = len(set(text4))\n",
    "fc = text.count(colloc)/vocab\n",
    "print(\"p(fellow citizens) = \",fc )\n",
    "f = text.count('fellow')/vocab\n",
    "print(\"p(fellow) = \", f)\n",
    "c = text.count('citizens')/vocab\n",
    "print('p(citizens) = ', c)\n",
    "pmi = math.log2(fc / (f * c))\n",
    "print('pmi = ', pmi)"
   ]
  },
  {
   "attachments": {},
   "cell_type": "markdown",
   "metadata": {},
   "source": [
    "Write commentary on the results of the mutual information formula and your\n",
    "interpretation:\n",
    "\n",
    "The results of the mutual information formula make complete sense to me. 'fellow citizens' has much more meaning together than fellow, or citizens by themselves, and a score of 4.04 appears to confirm this. My interpretation is that the probability of fellow and citizens are both higher than fellow citizens, so each word is likely to appear on its own. However, the meaning of 'fellow citizens' is very important when used together. "
   ]
  }
 ],
 "metadata": {
  "kernelspec": {
   "display_name": "Python 3",
   "language": "python",
   "name": "python3"
  },
  "language_info": {
   "codemirror_mode": {
    "name": "ipython",
    "version": 3
   },
   "file_extension": ".py",
   "mimetype": "text/x-python",
   "name": "python",
   "nbconvert_exporter": "python",
   "pygments_lexer": "ipython3",
   "version": "3.9.16"
  },
  "orig_nbformat": 4,
  "vscode": {
   "interpreter": {
    "hash": "397704579725e15f5c7cb49fe5f0341eb7531c82d19f2c29d197e8b64ab5776b"
   }
  }
 },
 "nbformat": 4,
 "nbformat_minor": 2
}
