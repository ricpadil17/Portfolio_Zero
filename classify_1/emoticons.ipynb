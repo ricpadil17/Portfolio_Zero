{
  "cells": [
    {
      "cell_type": "markdown",
      "metadata": {
        "id": "qUTzzS3SnALG"
      },
      "source": [
        "# Set-Up"
      ]
    },
    {
      "cell_type": "code",
      "execution_count": null,
      "metadata": {
        "colab": {
          "base_uri": "https://localhost:8080/"
        },
        "id": "Ix1dlFvJJ3Pr",
        "outputId": "ae247489-a0d2-4891-d870-82a30cdbffef"
      },
      "outputs": [
        {
          "output_type": "stream",
          "name": "stdout",
          "text": [
            "Drive already mounted at /content/drive; to attempt to forcibly remount, call drive.mount(\"/content/drive\", force_remount=True).\n"
          ]
        }
      ],
      "source": [
        "from google.colab import drive\n",
        "drive.mount('/content/drive')"
      ]
    },
    {
      "cell_type": "markdown",
      "metadata": {
        "id": "KW33daExnGOX"
      },
      "source": [
        "# Pre-Processing"
      ]
    },
    {
      "cell_type": "code",
      "execution_count": null,
      "metadata": {
        "colab": {
          "base_uri": "https://localhost:8080/",
          "height": 206
        },
        "id": "vPELl126BEaR",
        "outputId": "0cd18c0b-1bf2-4eb5-acae-86ce335b4d5b"
      },
      "outputs": [
        {
          "output_type": "execute_result",
          "data": {
            "text/plain": [
              "                                            sentence  feeling\n",
              "0          im updating my blog because i feel shitty  sadness\n",
              "1  i never make her separate from me because i do...  sadness\n",
              "2  i left with my bouquet of red and yellow tulip...      joy\n",
              "3    i was feeling a little vain when i did this one  sadness\n",
              "4  i cant walk into a shop anywhere where i do no...     fear"
            ],
            "text/html": [
              "\n",
              "  <div id=\"df-4c26be31-5ce1-47ea-b106-ec5ee2d9de55\">\n",
              "    <div class=\"colab-df-container\">\n",
              "      <div>\n",
              "<style scoped>\n",
              "    .dataframe tbody tr th:only-of-type {\n",
              "        vertical-align: middle;\n",
              "    }\n",
              "\n",
              "    .dataframe tbody tr th {\n",
              "        vertical-align: top;\n",
              "    }\n",
              "\n",
              "    .dataframe thead th {\n",
              "        text-align: right;\n",
              "    }\n",
              "</style>\n",
              "<table border=\"1\" class=\"dataframe\">\n",
              "  <thead>\n",
              "    <tr style=\"text-align: right;\">\n",
              "      <th></th>\n",
              "      <th>sentence</th>\n",
              "      <th>feeling</th>\n",
              "    </tr>\n",
              "  </thead>\n",
              "  <tbody>\n",
              "    <tr>\n",
              "      <th>0</th>\n",
              "      <td>im updating my blog because i feel shitty</td>\n",
              "      <td>sadness</td>\n",
              "    </tr>\n",
              "    <tr>\n",
              "      <th>1</th>\n",
              "      <td>i never make her separate from me because i do...</td>\n",
              "      <td>sadness</td>\n",
              "    </tr>\n",
              "    <tr>\n",
              "      <th>2</th>\n",
              "      <td>i left with my bouquet of red and yellow tulip...</td>\n",
              "      <td>joy</td>\n",
              "    </tr>\n",
              "    <tr>\n",
              "      <th>3</th>\n",
              "      <td>i was feeling a little vain when i did this one</td>\n",
              "      <td>sadness</td>\n",
              "    </tr>\n",
              "    <tr>\n",
              "      <th>4</th>\n",
              "      <td>i cant walk into a shop anywhere where i do no...</td>\n",
              "      <td>fear</td>\n",
              "    </tr>\n",
              "  </tbody>\n",
              "</table>\n",
              "</div>\n",
              "      <button class=\"colab-df-convert\" onclick=\"convertToInteractive('df-4c26be31-5ce1-47ea-b106-ec5ee2d9de55')\"\n",
              "              title=\"Convert this dataframe to an interactive table.\"\n",
              "              style=\"display:none;\">\n",
              "        \n",
              "  <svg xmlns=\"http://www.w3.org/2000/svg\" height=\"24px\"viewBox=\"0 0 24 24\"\n",
              "       width=\"24px\">\n",
              "    <path d=\"M0 0h24v24H0V0z\" fill=\"none\"/>\n",
              "    <path d=\"M18.56 5.44l.94 2.06.94-2.06 2.06-.94-2.06-.94-.94-2.06-.94 2.06-2.06.94zm-11 1L8.5 8.5l.94-2.06 2.06-.94-2.06-.94L8.5 2.5l-.94 2.06-2.06.94zm10 10l.94 2.06.94-2.06 2.06-.94-2.06-.94-.94-2.06-.94 2.06-2.06.94z\"/><path d=\"M17.41 7.96l-1.37-1.37c-.4-.4-.92-.59-1.43-.59-.52 0-1.04.2-1.43.59L10.3 9.45l-7.72 7.72c-.78.78-.78 2.05 0 2.83L4 21.41c.39.39.9.59 1.41.59.51 0 1.02-.2 1.41-.59l7.78-7.78 2.81-2.81c.8-.78.8-2.07 0-2.86zM5.41 20L4 18.59l7.72-7.72 1.47 1.35L5.41 20z\"/>\n",
              "  </svg>\n",
              "      </button>\n",
              "      \n",
              "  <style>\n",
              "    .colab-df-container {\n",
              "      display:flex;\n",
              "      flex-wrap:wrap;\n",
              "      gap: 12px;\n",
              "    }\n",
              "\n",
              "    .colab-df-convert {\n",
              "      background-color: #E8F0FE;\n",
              "      border: none;\n",
              "      border-radius: 50%;\n",
              "      cursor: pointer;\n",
              "      display: none;\n",
              "      fill: #1967D2;\n",
              "      height: 32px;\n",
              "      padding: 0 0 0 0;\n",
              "      width: 32px;\n",
              "    }\n",
              "\n",
              "    .colab-df-convert:hover {\n",
              "      background-color: #E2EBFA;\n",
              "      box-shadow: 0px 1px 2px rgba(60, 64, 67, 0.3), 0px 1px 3px 1px rgba(60, 64, 67, 0.15);\n",
              "      fill: #174EA6;\n",
              "    }\n",
              "\n",
              "    [theme=dark] .colab-df-convert {\n",
              "      background-color: #3B4455;\n",
              "      fill: #D2E3FC;\n",
              "    }\n",
              "\n",
              "    [theme=dark] .colab-df-convert:hover {\n",
              "      background-color: #434B5C;\n",
              "      box-shadow: 0px 1px 3px 1px rgba(0, 0, 0, 0.15);\n",
              "      filter: drop-shadow(0px 1px 2px rgba(0, 0, 0, 0.3));\n",
              "      fill: #FFFFFF;\n",
              "    }\n",
              "  </style>\n",
              "\n",
              "      <script>\n",
              "        const buttonEl =\n",
              "          document.querySelector('#df-4c26be31-5ce1-47ea-b106-ec5ee2d9de55 button.colab-df-convert');\n",
              "        buttonEl.style.display =\n",
              "          google.colab.kernel.accessAllowed ? 'block' : 'none';\n",
              "\n",
              "        async function convertToInteractive(key) {\n",
              "          const element = document.querySelector('#df-4c26be31-5ce1-47ea-b106-ec5ee2d9de55');\n",
              "          const dataTable =\n",
              "            await google.colab.kernel.invokeFunction('convertToInteractive',\n",
              "                                                     [key], {});\n",
              "          if (!dataTable) return;\n",
              "\n",
              "          const docLinkHtml = 'Like what you see? Visit the ' +\n",
              "            '<a target=\"_blank\" href=https://colab.research.google.com/notebooks/data_table.ipynb>data table notebook</a>'\n",
              "            + ' to learn more about interactive tables.';\n",
              "          element.innerHTML = '';\n",
              "          dataTable['output_type'] = 'display_data';\n",
              "          await google.colab.output.renderOutput(dataTable, element);\n",
              "          const docLink = document.createElement('div');\n",
              "          docLink.innerHTML = docLinkHtml;\n",
              "          element.appendChild(docLink);\n",
              "        }\n",
              "      </script>\n",
              "    </div>\n",
              "  </div>\n",
              "  "
            ]
          },
          "metadata": {},
          "execution_count": 33
        }
      ],
      "source": [
        "import pandas as pd\n",
        "\n",
        "data = pd.read_csv('/content/drive/MyDrive/emoticons/data.csv')\n",
        "data.head()"
      ]
    },
    {
      "cell_type": "code",
      "execution_count": null,
      "metadata": {
        "colab": {
          "base_uri": "https://localhost:8080/"
        },
        "id": "SYXjVUNjEKqK",
        "outputId": "106f9c95-20fa-4e16-938c-1d6be9fde7eb"
      },
      "outputs": [
        {
          "output_type": "execute_result",
          "data": {
            "text/plain": [
              "(19997, 2)"
            ]
          },
          "metadata": {},
          "execution_count": 34
        }
      ],
      "source": [
        "data.shape"
      ]
    },
    {
      "cell_type": "code",
      "execution_count": null,
      "metadata": {
        "colab": {
          "base_uri": "https://localhost:8080/"
        },
        "id": "iyXZ6HBaBHl1",
        "outputId": "b58a32cd-32d5-4e6a-a559-1a071287ea06"
      },
      "outputs": [
        {
          "output_type": "stream",
          "name": "stderr",
          "text": [
            "[nltk_data] Downloading package stopwords to /root/nltk_data...\n",
            "[nltk_data]   Package stopwords is already up-to-date!\n"
          ]
        }
      ],
      "source": [
        "import spacy\n",
        "import nltk\n",
        "from nltk.corpus import stopwords\n",
        "from nltk.stem import WordNetLemmatizer\n",
        "import re\n",
        "\n",
        "nltk.download('stopwords')\n",
        "\n",
        "# load the dataset into a pandas dataframe\n",
        "\n",
        "# create a spacy nlp object\n",
        "nlp = spacy.load(\"en_core_web_sm\")\n",
        "\n",
        "# create a WordNetLemmatizer object\n",
        "lemmatizer = WordNetLemmatizer()\n",
        "\n",
        "# create a list of stop words\n",
        "stop_words = set(stopwords.words('english'))\n",
        "\n",
        "# define a function to preprocess text\n",
        "def preprocess_text(text):\n",
        "    # convert text to lowercase\n",
        "    text = text.lower()\n",
        "    # remove non-alphanumeric characters and extra whitespaces\n",
        "    text = re.sub(r'[^a-zA-Z0-9\\s]', '', text)\n",
        "    text = re.sub(r'\\s+', ' ', text)\n",
        "    # apply spacy nlp to tokenize and lemmatize the text\n",
        "    doc = nlp(text)\n",
        "    tokens = [token.lemma_ for token in doc]\n",
        "    # remove stop words\n",
        "    tokens = [token for token in tokens if token not in stop_words]\n",
        "    # join the tokens back into a string\n",
        "    processed_text = ' '.join(tokens)\n",
        "    return processed_text\n",
        "\n",
        "# apply the preprocess_text function to the text column of the dataframe\n",
        "data['sentence'] = data['sentence'].apply(preprocess_text)"
      ]
    },
    {
      "cell_type": "code",
      "execution_count": null,
      "metadata": {
        "colab": {
          "base_uri": "https://localhost:8080/",
          "height": 206
        },
        "id": "i9dL0iI5Glbm",
        "outputId": "6eb156d5-0cd4-441e-f311-051d04d7b5bf"
      },
      "outputs": [
        {
          "output_type": "execute_result",
          "data": {
            "text/plain": [
              "                                            sentence  feeling\n",
              "0                        I update blog I feel shitty  sadness\n",
              "1  I never make separate I I ever want feel like ...  sadness\n",
              "2  I leave bouquet red yellow tulip arm feel slig...      joy\n",
              "3                           I feel little vain I one  sadness\n",
              "4          I walk shop anywhere I feel uncomfortable     fear"
            ],
            "text/html": [
              "\n",
              "  <div id=\"df-81701d45-339f-4e7d-9a23-437b5af925b9\">\n",
              "    <div class=\"colab-df-container\">\n",
              "      <div>\n",
              "<style scoped>\n",
              "    .dataframe tbody tr th:only-of-type {\n",
              "        vertical-align: middle;\n",
              "    }\n",
              "\n",
              "    .dataframe tbody tr th {\n",
              "        vertical-align: top;\n",
              "    }\n",
              "\n",
              "    .dataframe thead th {\n",
              "        text-align: right;\n",
              "    }\n",
              "</style>\n",
              "<table border=\"1\" class=\"dataframe\">\n",
              "  <thead>\n",
              "    <tr style=\"text-align: right;\">\n",
              "      <th></th>\n",
              "      <th>sentence</th>\n",
              "      <th>feeling</th>\n",
              "    </tr>\n",
              "  </thead>\n",
              "  <tbody>\n",
              "    <tr>\n",
              "      <th>0</th>\n",
              "      <td>I update blog I feel shitty</td>\n",
              "      <td>sadness</td>\n",
              "    </tr>\n",
              "    <tr>\n",
              "      <th>1</th>\n",
              "      <td>I never make separate I I ever want feel like ...</td>\n",
              "      <td>sadness</td>\n",
              "    </tr>\n",
              "    <tr>\n",
              "      <th>2</th>\n",
              "      <td>I leave bouquet red yellow tulip arm feel slig...</td>\n",
              "      <td>joy</td>\n",
              "    </tr>\n",
              "    <tr>\n",
              "      <th>3</th>\n",
              "      <td>I feel little vain I one</td>\n",
              "      <td>sadness</td>\n",
              "    </tr>\n",
              "    <tr>\n",
              "      <th>4</th>\n",
              "      <td>I walk shop anywhere I feel uncomfortable</td>\n",
              "      <td>fear</td>\n",
              "    </tr>\n",
              "  </tbody>\n",
              "</table>\n",
              "</div>\n",
              "      <button class=\"colab-df-convert\" onclick=\"convertToInteractive('df-81701d45-339f-4e7d-9a23-437b5af925b9')\"\n",
              "              title=\"Convert this dataframe to an interactive table.\"\n",
              "              style=\"display:none;\">\n",
              "        \n",
              "  <svg xmlns=\"http://www.w3.org/2000/svg\" height=\"24px\"viewBox=\"0 0 24 24\"\n",
              "       width=\"24px\">\n",
              "    <path d=\"M0 0h24v24H0V0z\" fill=\"none\"/>\n",
              "    <path d=\"M18.56 5.44l.94 2.06.94-2.06 2.06-.94-2.06-.94-.94-2.06-.94 2.06-2.06.94zm-11 1L8.5 8.5l.94-2.06 2.06-.94-2.06-.94L8.5 2.5l-.94 2.06-2.06.94zm10 10l.94 2.06.94-2.06 2.06-.94-2.06-.94-.94-2.06-.94 2.06-2.06.94z\"/><path d=\"M17.41 7.96l-1.37-1.37c-.4-.4-.92-.59-1.43-.59-.52 0-1.04.2-1.43.59L10.3 9.45l-7.72 7.72c-.78.78-.78 2.05 0 2.83L4 21.41c.39.39.9.59 1.41.59.51 0 1.02-.2 1.41-.59l7.78-7.78 2.81-2.81c.8-.78.8-2.07 0-2.86zM5.41 20L4 18.59l7.72-7.72 1.47 1.35L5.41 20z\"/>\n",
              "  </svg>\n",
              "      </button>\n",
              "      \n",
              "  <style>\n",
              "    .colab-df-container {\n",
              "      display:flex;\n",
              "      flex-wrap:wrap;\n",
              "      gap: 12px;\n",
              "    }\n",
              "\n",
              "    .colab-df-convert {\n",
              "      background-color: #E8F0FE;\n",
              "      border: none;\n",
              "      border-radius: 50%;\n",
              "      cursor: pointer;\n",
              "      display: none;\n",
              "      fill: #1967D2;\n",
              "      height: 32px;\n",
              "      padding: 0 0 0 0;\n",
              "      width: 32px;\n",
              "    }\n",
              "\n",
              "    .colab-df-convert:hover {\n",
              "      background-color: #E2EBFA;\n",
              "      box-shadow: 0px 1px 2px rgba(60, 64, 67, 0.3), 0px 1px 3px 1px rgba(60, 64, 67, 0.15);\n",
              "      fill: #174EA6;\n",
              "    }\n",
              "\n",
              "    [theme=dark] .colab-df-convert {\n",
              "      background-color: #3B4455;\n",
              "      fill: #D2E3FC;\n",
              "    }\n",
              "\n",
              "    [theme=dark] .colab-df-convert:hover {\n",
              "      background-color: #434B5C;\n",
              "      box-shadow: 0px 1px 3px 1px rgba(0, 0, 0, 0.15);\n",
              "      filter: drop-shadow(0px 1px 2px rgba(0, 0, 0, 0.3));\n",
              "      fill: #FFFFFF;\n",
              "    }\n",
              "  </style>\n",
              "\n",
              "      <script>\n",
              "        const buttonEl =\n",
              "          document.querySelector('#df-81701d45-339f-4e7d-9a23-437b5af925b9 button.colab-df-convert');\n",
              "        buttonEl.style.display =\n",
              "          google.colab.kernel.accessAllowed ? 'block' : 'none';\n",
              "\n",
              "        async function convertToInteractive(key) {\n",
              "          const element = document.querySelector('#df-81701d45-339f-4e7d-9a23-437b5af925b9');\n",
              "          const dataTable =\n",
              "            await google.colab.kernel.invokeFunction('convertToInteractive',\n",
              "                                                     [key], {});\n",
              "          if (!dataTable) return;\n",
              "\n",
              "          const docLinkHtml = 'Like what you see? Visit the ' +\n",
              "            '<a target=\"_blank\" href=https://colab.research.google.com/notebooks/data_table.ipynb>data table notebook</a>'\n",
              "            + ' to learn more about interactive tables.';\n",
              "          element.innerHTML = '';\n",
              "          dataTable['output_type'] = 'display_data';\n",
              "          await google.colab.output.renderOutput(dataTable, element);\n",
              "          const docLink = document.createElement('div');\n",
              "          docLink.innerHTML = docLinkHtml;\n",
              "          element.appendChild(docLink);\n",
              "        }\n",
              "      </script>\n",
              "    </div>\n",
              "  </div>\n",
              "  "
            ]
          },
          "metadata": {},
          "execution_count": 36
        }
      ],
      "source": [
        "data.head()"
      ]
    },
    {
      "cell_type": "code",
      "execution_count": null,
      "metadata": {
        "id": "PZBaRCrZHz6q"
      },
      "outputs": [],
      "source": [
        "X = data.sentence\n",
        "y = data.feeling"
      ]
    },
    {
      "cell_type": "code",
      "execution_count": null,
      "metadata": {
        "colab": {
          "base_uri": "https://localhost:8080/"
        },
        "id": "XWfek2mOH63K",
        "outputId": "59cda5a0-1c10-4186-8a7a-5850e55e43b9"
      },
      "outputs": [
        {
          "output_type": "execute_result",
          "data": {
            "text/plain": [
              "0                          I update blog I feel shitty\n",
              "1    I never make separate I I ever want feel like ...\n",
              "2    I leave bouquet red yellow tulip arm feel slig...\n",
              "3                             I feel little vain I one\n",
              "4            I walk shop anywhere I feel uncomfortable\n",
              "Name: sentence, dtype: object"
            ]
          },
          "metadata": {},
          "execution_count": 38
        }
      ],
      "source": [
        "X.head()"
      ]
    },
    {
      "cell_type": "code",
      "execution_count": null,
      "metadata": {
        "colab": {
          "base_uri": "https://localhost:8080/"
        },
        "id": "oJSCKNk1IC99",
        "outputId": "73edfcc8-44f4-4ad6-9944-d302ae78c1a9"
      },
      "outputs": [
        {
          "output_type": "execute_result",
          "data": {
            "text/plain": [
              "0    sadness\n",
              "1    sadness\n",
              "2        joy\n",
              "3    sadness\n",
              "4       fear\n",
              "5      anger\n",
              "6        joy\n",
              "7        joy\n",
              "8      anger\n",
              "9       fear\n",
              "Name: feeling, dtype: object"
            ]
          },
          "metadata": {},
          "execution_count": 39
        }
      ],
      "source": [
        "y[:10]"
      ]
    },
    {
      "cell_type": "code",
      "execution_count": null,
      "metadata": {
        "colab": {
          "base_uri": "https://localhost:8080/"
        },
        "id": "uGdyKI8oIFkU",
        "outputId": "2a3d2de3-537a-4063-c50c-5229ef849249"
      },
      "outputs": [
        {
          "output_type": "execute_result",
          "data": {
            "text/plain": [
              "(15997,)"
            ]
          },
          "metadata": {},
          "execution_count": 40
        }
      ],
      "source": [
        "from sklearn.model_selection import train_test_split\n",
        "# stratify=y, \n",
        "X_train, X_test, y_train, y_test = train_test_split(X, y,stratify=y, test_size=0.2, train_size=0.8,random_state=1234)\n",
        "\n",
        "X_train.shape"
      ]
    },
    {
      "cell_type": "code",
      "execution_count": null,
      "metadata": {
        "id": "9pmqcOzSII0m"
      },
      "outputs": [],
      "source": [
        "from sklearn.feature_extraction.text import TfidfVectorizer\n",
        "\n",
        "vectorizer = TfidfVectorizer(stop_words=list(stop_words))\n",
        "\n",
        "X_train = vectorizer.fit_transform(X_train)  # fit and transform the train data\n",
        "X_test = vectorizer.transform(X_test)  "
      ]
    },
    {
      "cell_type": "code",
      "execution_count": null,
      "metadata": {
        "colab": {
          "base_uri": "https://localhost:8080/"
        },
        "id": "LmCwQAUjI2Ob",
        "outputId": "e2b7c60f-1699-4e8d-8284-ec01796cbfef"
      },
      "outputs": [
        {
          "output_type": "stream",
          "name": "stdout",
          "text": [
            "train size: (15997, 11928)\n",
            "[[0. 0. 0. ... 0. 0. 0.]\n",
            " [0. 0. 0. ... 0. 0. 0.]\n",
            " [0. 0. 0. ... 0. 0. 0.]\n",
            " [0. 0. 0. ... 0. 0. 0.]\n",
            " [0. 0. 0. ... 0. 0. 0.]]\n",
            "\n",
            "test size: (4000, 11928)\n",
            "[[0. 0. 0. ... 0. 0. 0.]\n",
            " [0. 0. 0. ... 0. 0. 0.]\n",
            " [0. 0. 0. ... 0. 0. 0.]\n",
            " [0. 0. 0. ... 0. 0. 0.]\n",
            " [0. 0. 0. ... 0. 0. 0.]]\n"
          ]
        }
      ],
      "source": [
        "print('train size:', X_train.shape)\n",
        "print(X_train.toarray()[:5])\n",
        "\n",
        "print('\\ntest size:', X_test.shape)\n",
        "print(X_test.toarray()[:5])"
      ]
    },
    {
      "cell_type": "code",
      "execution_count": null,
      "metadata": {
        "colab": {
          "base_uri": "https://localhost:8080/",
          "height": 490
        },
        "id": "ZQbA_FNQxy8M",
        "outputId": "f35eb10c-10cb-4c41-a450-575182c4f06c"
      },
      "outputs": [
        {
          "output_type": "execute_result",
          "data": {
            "text/plain": [
              "Text(0, 0.5, 'Count')"
            ]
          },
          "metadata": {},
          "execution_count": 43
        },
        {
          "output_type": "display_data",
          "data": {
            "text/plain": [
              "<Figure size 640x480 with 1 Axes>"
            ],
            "image/png": "[encoded data removed]"
          },
          "metadata": {}
        }
      ],
      "source": [
        "import seaborn as sns\n",
        "import matplotlib.pyplot as plt\n",
        "\n",
        "# count the number of occurrences of each string in the DataFrame\n",
        "counts = data['feeling'].value_counts()\n",
        "\n",
        "# create a bar plot of the counts using seaborn\n",
        "sns.barplot(x=counts.index, y=counts.values)\n",
        "\n",
        "# add a title and labels to the plot\n",
        "plt.title('Target Class distribution')\n",
        "plt.xlabel('Feeling')\n",
        "plt.ylabel('Count')"
      ]
    },
    {
      "cell_type": "code",
      "execution_count": null,
      "metadata": {
        "colab": {
          "base_uri": "https://localhost:8080/",
          "height": 490
        },
        "id": "gLu9WcaZJPSW",
        "outputId": "777d8963-fbca-4eb3-d400-ba2a7f4c5756"
      },
      "outputs": [
        {
          "output_type": "execute_result",
          "data": {
            "text/plain": [
              "Text(0, 0.5, 'Count')"
            ]
          },
          "metadata": {},
          "execution_count": 44
        },
        {
          "output_type": "display_data",
          "data": {
            "text/plain": [
              "<Figure size 640x480 with 1 Axes>"
            ],
            "image/png": "[encoded data removed]"
          },
          "metadata": {}
        }
      ],
      "source": [
        "train_counts = y_train.value_counts()\n",
        "# create a bar plot of the counts using seaborn\n",
        "sns.barplot(x=counts.index, y=train_counts.values)\n",
        "\n",
        "# add a title and labels to the plot\n",
        "plt.title('TRAIN Target Class distribution')\n",
        "plt.xlabel('Feeling')\n",
        "plt.ylabel('Count')"
      ]
    },
    {
      "cell_type": "code",
      "execution_count": null,
      "metadata": {
        "colab": {
          "base_uri": "https://localhost:8080/",
          "height": 490
        },
        "id": "3d1bp4fQKAGC",
        "outputId": "62cebe88-8172-4292-f975-1377fea6f7a9"
      },
      "outputs": [
        {
          "output_type": "execute_result",
          "data": {
            "text/plain": [
              "Text(0, 0.5, 'Count')"
            ]
          },
          "metadata": {},
          "execution_count": 45
        },
        {
          "output_type": "display_data",
          "data": {
            "text/plain": [
              "<Figure size 640x480 with 1 Axes>"
            ],
            "image/png": "[encoded data removed]"
          },
          "metadata": {}
        }
      ],
      "source": [
        "test_counts = y_test.value_counts()\n",
        "# create a bar plot of the counts using seaborn\n",
        "sns.barplot(x=counts.index, y=test_counts.values)\n",
        "\n",
        "# add a title and labels to the plot\n",
        "plt.title('TEST Target Class distribution')\n",
        "plt.xlabel('Feeling')\n",
        "plt.ylabel('Count')"
      ]
    },
    {
      "cell_type": "markdown",
      "metadata": {
        "id": "4izmP17Tr7s_"
      },
      "source": [
        "## Describe the data set and what the model should be able to predict:\n",
        "\n",
        "The dataset has 2 columns, a column containing sentences and a column containing the corresponding feeling for the sentence. Once trained, a model should be able to take in a sentence as input, and correctly classify the emotion in the sentence."
      ]
    },
    {
      "cell_type": "markdown",
      "metadata": {
        "id": "dL5Z-_MRsJRB"
      },
      "source": [
        "# Classifiers"
      ]
    },
    {
      "cell_type": "markdown",
      "metadata": {
        "id": "lq7_Fe9XuUa9"
      },
      "source": [
        "# Naive Bayes"
      ]
    },
    {
      "cell_type": "code",
      "execution_count": null,
      "metadata": {
        "colab": {
          "base_uri": "https://localhost:8080/",
          "height": 75
        },
        "id": "xyOZw5YtJBPX",
        "outputId": "362e7e29-bde4-4b12-f48d-73c36fd43904"
      },
      "outputs": [
        {
          "output_type": "execute_result",
          "data": {
            "text/plain": [
              "MultinomialNB()"
            ],
            "text/html": [
              "<style>#sk-container-id-3 {color: black;background-color: white;}#sk-container-id-3 pre{padding: 0;}#sk-container-id-3 div.sk-toggleable {background-color: white;}#sk-container-id-3 label.sk-toggleable__label {cursor: pointer;display: block;width: 100%;margin-bottom: 0;padding: 0.3em;box-sizing: border-box;text-align: center;}#sk-container-id-3 label.sk-toggleable__label-arrow:before {content: \"▸\";float: left;margin-right: 0.25em;color: #696969;}#sk-container-id-3 label.sk-toggleable__label-arrow:hover:before {color: black;}#sk-container-id-3 div.sk-estimator:hover label.sk-toggleable__label-arrow:before {color: black;}#sk-container-id-3 div.sk-toggleable__content {max-height: 0;max-width: 0;overflow: hidden;text-align: left;background-color: #f0f8ff;}#sk-container-id-3 div.sk-toggleable__content pre {margin: 0.2em;color: black;border-radius: 0.25em;background-color: #f0f8ff;}#sk-container-id-3 input.sk-toggleable__control:checked~div.sk-toggleable__content {max-height: 200px;max-width: 100%;overflow: auto;}#sk-container-id-3 input.sk-toggleable__control:checked~label.sk-toggleable__label-arrow:before {content: \"▾\";}#sk-container-id-3 div.sk-estimator input.sk-toggleable__control:checked~label.sk-toggleable__label {background-color: #d4ebff;}#sk-container-id-3 div.sk-label input.sk-toggleable__control:checked~label.sk-toggleable__label {background-color: #d4ebff;}#sk-container-id-3 input.sk-hidden--visually {border: 0;clip: rect(1px 1px 1px 1px);clip: rect(1px, 1px, 1px, 1px);height: 1px;margin: -1px;overflow: hidden;padding: 0;position: absolute;width: 1px;}#sk-container-id-3 div.sk-estimator {font-family: monospace;background-color: #f0f8ff;border: 1px dotted black;border-radius: 0.25em;box-sizing: border-box;margin-bottom: 0.5em;}#sk-container-id-3 div.sk-estimator:hover {background-color: #d4ebff;}#sk-container-id-3 div.sk-parallel-item::after {content: \"\";width: 100%;border-bottom: 1px solid gray;flex-grow: 1;}#sk-container-id-3 div.sk-label:hover label.sk-toggleable__label {background-color: #d4ebff;}#sk-container-id-3 div.sk-serial::before {content: \"\";position: absolute;border-left: 1px solid gray;box-sizing: border-box;top: 0;bottom: 0;left: 50%;z-index: 0;}#sk-container-id-3 div.sk-serial {display: flex;flex-direction: column;align-items: center;background-color: white;padding-right: 0.2em;padding-left: 0.2em;position: relative;}#sk-container-id-3 div.sk-item {position: relative;z-index: 1;}#sk-container-id-3 div.sk-parallel {display: flex;align-items: stretch;justify-content: center;background-color: white;position: relative;}#sk-container-id-3 div.sk-item::before, #sk-container-id-3 div.sk-parallel-item::before {content: \"\";position: absolute;border-left: 1px solid gray;box-sizing: border-box;top: 0;bottom: 0;left: 50%;z-index: -1;}#sk-container-id-3 div.sk-parallel-item {display: flex;flex-direction: column;z-index: 1;position: relative;background-color: white;}#sk-container-id-3 div.sk-parallel-item:first-child::after {align-self: flex-end;width: 50%;}#sk-container-id-3 div.sk-parallel-item:last-child::after {align-self: flex-start;width: 50%;}#sk-container-id-3 div.sk-parallel-item:only-child::after {width: 0;}#sk-container-id-3 div.sk-dashed-wrapped {border: 1px dashed gray;margin: 0 0.4em 0.5em 0.4em;box-sizing: border-box;padding-bottom: 0.4em;background-color: white;}#sk-container-id-3 div.sk-label label {font-family: monospace;font-weight: bold;display: inline-block;line-height: 1.2em;}#sk-container-id-3 div.sk-label-container {text-align: center;}#sk-container-id-3 div.sk-container {/* jupyter's `normalize.less` sets `[hidden] { display: none; }` but bootstrap.min.css set `[hidden] { display: none !important; }` so we also need the `!important` here to be able to override the default hidden behavior on the sphinx rendered scikit-learn.org. See: https://github.com/scikit-learn/scikit-learn/issues/21755 */display: inline-block !important;position: relative;}#sk-container-id-3 div.sk-text-repr-fallback {display: none;}</style><div id=\"sk-container-id-3\" class=\"sk-top-container\"><div class=\"sk-text-repr-fallback\"><pre>MultinomialNB()</pre><b>In a Jupyter environment, please rerun this cell to show the HTML representation or trust the notebook. <br />On GitHub, the HTML representation is unable to render, please try loading this page with nbviewer.org.</b></div><div class=\"sk-container\" hidden><div class=\"sk-item\"><div class=\"sk-estimator sk-toggleable\"><input class=\"sk-toggleable__control sk-hidden--visually\" id=\"sk-estimator-id-3\" type=\"checkbox\" checked><label for=\"sk-estimator-id-3\" class=\"sk-toggleable__label sk-toggleable__label-arrow\">MultinomialNB</label><div class=\"sk-toggleable__content\"><pre>MultinomialNB()</pre></div></div></div></div></div>"
            ]
          },
          "metadata": {},
          "execution_count": 46
        }
      ],
      "source": [
        "from sklearn.naive_bayes import MultinomialNB\n",
        "\n",
        "naive_bayes = MultinomialNB()\n",
        "naive_bayes.fit(X_train, y_train)"
      ]
    },
    {
      "cell_type": "code",
      "execution_count": null,
      "metadata": {
        "colab": {
          "base_uri": "https://localhost:8080/"
        },
        "id": "UamTxZokKeCx",
        "outputId": "67e43759-2f83-4904-b429-751a121e0f58"
      },
      "outputs": [
        {
          "output_type": "stream",
          "name": "stdout",
          "text": [
            "prior spam:\n",
            " joy         0.338126\n",
            "sadness     0.289742\n",
            "anger       0.135463\n",
            "fear        0.118647\n",
            "love        0.082078\n",
            "surprise    0.035944\n",
            "Name: feeling, dtype: float64 log of prior:\n",
            " 0   -1.084337\n",
            "1   -1.238765\n",
            "2   -1.999057\n",
            "3   -2.131601\n",
            "4   -2.500087\n",
            "5   -3.325786\n",
            "dtype: float64\n",
            "[-1.99905748 -2.1316005  -1.08433697 -2.50008661 -1.23876501 -3.32578644]\n"
          ]
        }
      ],
      "source": [
        "# priors\n",
        "import math\n",
        "\n",
        "class_counts = y_train.value_counts()\n",
        "prior = class_counts / class_counts.sum()\n",
        "log_prior = pd.Series(list(map(math.log, prior)))\n",
        "print('prior spam:\\n', prior, 'log of prior:\\n', log_prior)\n",
        "\n",
        "print(naive_bayes.class_log_prior_)"
      ]
    },
    {
      "cell_type": "code",
      "execution_count": null,
      "metadata": {
        "colab": {
          "base_uri": "https://localhost:8080/"
        },
        "id": "kJ6w44OvKhV6",
        "outputId": "fff659e5-94cf-45dc-d091-96118d3c465a"
      },
      "outputs": [
        {
          "output_type": "execute_result",
          "data": {
            "text/plain": [
              "array([[ -9.34976823,  -9.77498145,  -9.77498145, ...,  -9.77498145,\n",
              "         -9.77498145,  -9.77498145],\n",
              "       [ -9.40497471,  -9.73179273,  -9.73179273, ...,  -9.73179273,\n",
              "         -9.73179273,  -9.73179273],\n",
              "       [-10.17544913,  -9.76014488, -10.17544913, ..., -10.17544913,\n",
              "         -9.84504176, -10.17544913],\n",
              "       [ -9.64701021,  -9.64701021,  -9.64701021, ...,  -9.64701021,\n",
              "         -9.37255231,  -9.64701021],\n",
              "       [ -9.66436552, -10.07875185,  -9.67853277, ...,  -9.77623576,\n",
              "        -10.07875185,  -9.79117385],\n",
              "       [ -9.50898118,  -9.50898118,  -9.50898118, ...,  -9.50898118,\n",
              "         -9.50898118,  -9.50898118]])"
            ]
          },
          "metadata": {},
          "execution_count": 48
        }
      ],
      "source": [
        "# what else did it learn from the data?\n",
        "# the log likelihood of words given the class\n",
        "\n",
        "naive_bayes.feature_log_prob_"
      ]
    },
    {
      "cell_type": "code",
      "execution_count": null,
      "metadata": {
        "colab": {
          "base_uri": "https://localhost:8080/"
        },
        "id": "fUZFq45WNH3O",
        "outputId": "5e53ca65-2ec7-48c9-c05c-b5fd9fe9d940"
      },
      "outputs": [
        {
          "output_type": "stream",
          "name": "stdout",
          "text": [
            "[[ 186    3  184    0  169    0]\n",
            " [   5  126  172    0  172    0]\n",
            " [   0    0 1331    0   21    0]\n",
            " [   0    0  247   31   50    0]\n",
            " [   0    1   95    0 1063    0]\n",
            " [   1    8   78    0   55    2]]\n"
          ]
        }
      ],
      "source": [
        "from sklearn.metrics import accuracy_score, precision_score, recall_score, f1_score, confusion_matrix\n",
        "\n",
        "# make predictions on the test data\n",
        "pred = naive_bayes.predict(X_test)\n",
        "\n",
        "# print confusion matrix\n",
        "print(confusion_matrix(y_test, pred))\n",
        "\n",
        "# confusion matrix has this form\n",
        "#     tp   fp\n",
        "#     fn   tn\n"
      ]
    },
    {
      "cell_type": "code",
      "execution_count": null,
      "metadata": {
        "colab": {
          "base_uri": "https://localhost:8080/"
        },
        "id": "64rbx-MZNKcF",
        "outputId": "0c48c103-fcfd-43a5-fa60-f59ebb72f43b"
      },
      "outputs": [
        {
          "output_type": "stream",
          "name": "stdout",
          "text": [
            "accuracy score:  0.68475\n",
            "\n",
            "precision score (per label):  [0.63170384 0.69477124 0.96875    0.91304348 1.         1.        ]\n",
            "\n",
            "precision score (weighted average):  0.7725154047467487\n",
            "\n",
            "recall score: (per label) [0.98446746 0.91716997 0.34317343 0.26526316 0.0945122  0.01388889]\n",
            "\n",
            "recall score: (weighted average) 0.68475\n",
            "\n",
            "f1 score (raw):  [0.50681199 0.41109299 0.76958659 0.17270195 0.79062849 0.02739726]\n",
            "\n",
            "f1 score (weighted):  0.6218430477029387\n"
          ]
        }
      ],
      "source": [
        "label=['joy','sadness','anger','fear','love','surprise']\n",
        "print('accuracy score: ', accuracy_score(y_test, pred))\n",
        "      \n",
        "print('\\nprecision score (per label): ', precision_score(y_test, pred, labels=label, average=None, zero_division=1))\n",
        "print('\\nprecision score (weighted average): ', precision_score(y_test, pred, average='weighted', zero_division=1))\n",
        "\n",
        "\n",
        "print('\\nrecall score: (per label)', recall_score(y_test, pred, labels=label, average=None))\n",
        "print('\\nrecall score: (weighted average)', recall_score(y_test, pred, labels=label, average='weighted'))\n",
        "\n",
        "      \n",
        "print('\\nf1 score (raw): ', f1_score(y_test, pred, average=None))\n",
        "print('\\nf1 score (weighted): ', f1_score(y_test, pred, average='weighted'))"
      ]
    },
    {
      "cell_type": "code",
      "execution_count": null,
      "metadata": {
        "colab": {
          "base_uri": "https://localhost:8080/"
        },
        "id": "eFjH7WB0NPsk",
        "outputId": "71c95ab6-3981-4df0-8a7f-17035703b418"
      },
      "outputs": [
        {
          "output_type": "stream",
          "name": "stdout",
          "text": [
            "              precision    recall  f1-score   support\n",
            "\n",
            "       anger       0.97      0.34      0.51       542\n",
            "        fear       0.91      0.27      0.41       475\n",
            "         joy       0.63      0.98      0.77      1352\n",
            "        love       1.00      0.09      0.17       328\n",
            "     sadness       0.69      0.92      0.79      1159\n",
            "    surprise       1.00      0.01      0.03       144\n",
            "\n",
            "    accuracy                           0.68      4000\n",
            "   macro avg       0.87      0.44      0.45      4000\n",
            "weighted avg       0.77      0.68      0.62      4000\n",
            "\n"
          ]
        }
      ],
      "source": [
        "from sklearn.metrics import classification_report\n",
        "print(classification_report(y_test, pred))"
      ]
    },
    {
      "cell_type": "code",
      "execution_count": null,
      "metadata": {
        "colab": {
          "base_uri": "https://localhost:8080/"
        },
        "id": "qi_ptAXJSprJ",
        "outputId": "de3df6b8-a4e7-4c0f-d0d2-ec0177096e07"
      },
      "outputs": [
        {
          "output_type": "stream",
          "name": "stdout",
          "text": [
            "spam size in test data: 0\n",
            "test size:  4000\n",
            "0.0\n"
          ]
        }
      ],
      "source": [
        "print('spam size in test data:',y_test[y_test==0].shape[0])\n",
        "print('test size: ', len(y_test))\n",
        "baseline = y_test[y_test==0].shape[0] / y_test.shape[0] \n",
        "print(baseline)"
      ]
    },
    {
      "cell_type": "code",
      "execution_count": null,
      "metadata": {
        "colab": {
          "base_uri": "https://localhost:8080/"
        },
        "id": "QgkjuoebSxjW",
        "outputId": "cb8f20a5-afb3-4dce-885c-bcbfdfdccac5"
      },
      "outputs": [
        {
          "output_type": "execute_result",
          "data": {
            "text/plain": [
              "2260      sadness\n",
              "13774        fear\n",
              "6910         fear\n",
              "9281     surprise\n",
              "8532        anger\n",
              "           ...   \n",
              "16174        fear\n",
              "4740        anger\n",
              "6062         fear\n",
              "3158      sadness\n",
              "8870        anger\n",
              "Name: feeling, Length: 1261, dtype: object"
            ]
          },
          "metadata": {},
          "execution_count": 53
        }
      ],
      "source": [
        "y_test[y_test != pred]\n"
      ]
    },
    {
      "cell_type": "code",
      "execution_count": null,
      "metadata": {
        "colab": {
          "base_uri": "https://localhost:8080/"
        },
        "id": "OIp1g74AqZNW",
        "outputId": "acb2fc5b-79f2-417a-8a04-2d3ceb8a7a3a"
      },
      "outputs": [
        {
          "output_type": "stream",
          "name": "stdout",
          "text": [
            "sentence    I learn learn lesson matter I feel even may fe...\n",
            "feeling                                                  love\n",
            "Name: 1764, dtype: object\n",
            "sentence    I want feel admired love\n",
            "feeling                         love\n",
            "Name: 10528, dtype: object\n",
            "sentence    I feel overwhelmed excitement anxiety I prepar...\n",
            "feeling                                                  fear\n",
            "Name: 13167, dtype: object\n",
            "sentence    I feel kinda weird andrea try talk I chris\n",
            "feeling                                           fear\n",
            "Name: 187, dtype: object\n",
            "sentence    I still look good cause I feel passionate volu...\n",
            "feeling                                                  love\n",
            "Name: 3982, dtype: object\n",
            "sentence    I feel reject like I belong circle circle I re...\n",
            "feeling                                               sadness\n",
            "Name: 13734, dtype: object\n",
            "sentence    I feel anxious worry case I understand custome...\n",
            "feeling                                                  fear\n",
            "Name: 17159, dtype: object\n",
            "sentence    I grateful every single thing I maybe ill star...\n",
            "feeling                                               sadness\n",
            "Name: 3185, dtype: object\n",
            "sentence    I feel somewhat indecisive term alliance\n",
            "feeling                                         fear\n",
            "Name: 4654, dtype: object\n",
            "sentence    I feel like little barbie doll I get decorate ...\n",
            "feeling                                                 anger\n",
            "Name: 15432, dtype: object\n"
          ]
        }
      ],
      "source": [
        "for i in [1764, 10528, 13167, 187, 3982, 13734,17159, 3185, 4654, 15432]:\n",
        "    print(data.loc[i])"
      ]
    },
    {
      "cell_type": "markdown",
      "metadata": {
        "id": "Ow3Cc-7MuKrg"
      },
      "source": [
        "# Logistic Regression"
      ]
    },
    {
      "cell_type": "code",
      "execution_count": null,
      "metadata": {
        "colab": {
          "base_uri": "https://localhost:8080/"
        },
        "id": "ZgrIQ105uae-",
        "outputId": "a82bea04-1f9c-45b0-90ba-e542d9b228f7"
      },
      "outputs": [
        {
          "output_type": "stream",
          "name": "stdout",
          "text": [
            "Accuracy: 0.84775\n"
          ]
        },
        {
          "output_type": "stream",
          "name": "stderr",
          "text": [
            "/usr/local/lib/python3.9/dist-packages/sklearn/linear_model/_logistic.py:458: ConvergenceWarning: lbfgs failed to converge (status=1):\n",
            "STOP: TOTAL NO. of ITERATIONS REACHED LIMIT.\n",
            "\n",
            "Increase the number of iterations (max_iter) or scale the data as shown in:\n",
            "    https://scikit-learn.org/stable/modules/preprocessing.html\n",
            "Please also refer to the documentation for alternative solver options:\n",
            "    https://scikit-learn.org/stable/modules/linear_model.html#logistic-regression\n",
            "  n_iter_i = _check_optimize_result(\n"
          ]
        }
      ],
      "source": [
        "from sklearn.linear_model import LogisticRegression\n",
        "from sklearn.metrics import accuracy_score\n",
        "\n",
        "# create a Logistic Regression object\n",
        "lr = LogisticRegression()\n",
        "\n",
        "# fit the classifier on the train data\n",
        "lr.fit(X_train, y_train)\n",
        "\n",
        "# make predictions on the test data\n",
        "y_pred_lr = lr.predict(X_test)\n",
        "\n",
        "# calculate the accuracy of the classifier\n",
        "accuracy = accuracy_score(y_test, y_pred_lr)\n",
        "\n",
        "# print the accuracy\n",
        "print(\"Accuracy:\", accuracy)"
      ]
    },
    {
      "cell_type": "code",
      "source": [
        "print('\\nprecision score (per label): ', precision_score(y_test, y_pred_lr, labels=label, average=None, zero_division=1))\n",
        "print('\\nprecision score (weighted average): ', precision_score(y_test, y_pred_lr, average='weighted', zero_division=1))\n",
        "\n",
        "\n",
        "print('\\nrecall score: (per label)', recall_score(y_test, y_pred_lr, labels=label, average=None))\n",
        "print('\\nrecall score: (weighted average)', recall_score(y_test, y_pred_lr, labels=label, average='weighted'))\n",
        "\n",
        "      \n",
        "print('\\nf1 score (raw): ', f1_score(y_test, y_pred_lr, average=None))\n",
        "print('\\nf1 score (weighted): ', f1_score(y_test, y_pred_lr, average='weighted'))"
      ],
      "metadata": {
        "colab": {
          "base_uri": "https://localhost:8080/"
        },
        "id": "rAg6mAROPZn-",
        "outputId": "a4cbffd4-6904-40ba-e4da-f5adb215da2f"
      },
      "execution_count": null,
      "outputs": [
        {
          "output_type": "stream",
          "name": "stdout",
          "text": [
            "\n",
            "precision score (per label):  [0.82315113 0.86363636 0.91220557 0.84470588 0.81276596 0.8255814 ]\n",
            "\n",
            "precision score (weighted average):  0.8487441334118182\n",
            "\n",
            "recall score: (per label) [0.94674556 0.91803279 0.78597786 0.75578947 0.58231707 0.49305556]\n",
            "\n",
            "recall score: (weighted average) 0.84775\n",
            "\n",
            "f1 score (raw):  [0.8444004  0.79777778 0.88063295 0.67850799 0.89000418 0.6173913 ]\n",
            "\n",
            "f1 score (weighted):  0.8425487578061324\n"
          ]
        }
      ]
    },
    {
      "cell_type": "code",
      "source": [
        "print(classification_report(y_test, y_pred_lr))"
      ],
      "metadata": {
        "colab": {
          "base_uri": "https://localhost:8080/"
        },
        "id": "SOLEb-DjNLuV",
        "outputId": "b7fa55f7-a564-45f7-ae01-18cc7d92b0b5"
      },
      "execution_count": null,
      "outputs": [
        {
          "output_type": "stream",
          "name": "stdout",
          "text": [
            "              precision    recall  f1-score   support\n",
            "\n",
            "       anger       0.91      0.79      0.84       542\n",
            "        fear       0.84      0.76      0.80       475\n",
            "         joy       0.82      0.95      0.88      1352\n",
            "        love       0.81      0.58      0.68       328\n",
            "     sadness       0.86      0.92      0.89      1159\n",
            "    surprise       0.83      0.49      0.62       144\n",
            "\n",
            "    accuracy                           0.85      4000\n",
            "   macro avg       0.85      0.75      0.78      4000\n",
            "weighted avg       0.85      0.85      0.84      4000\n",
            "\n"
          ]
        }
      ]
    },
    {
      "cell_type": "markdown",
      "metadata": {
        "id": "JOsUw4nJtv_c"
      },
      "source": [
        "# Neural Networks\n"
      ]
    },
    {
      "cell_type": "code",
      "source": [
        "from sklearn.neural_network import MLPClassifier\n",
        "\n",
        "mlp = MLPClassifier(hidden_layer_sizes=(30,10), random_state=1234, max_iter=1000, learning_rate_init=0.001)\n",
        "\n",
        "mlp.fit(X_train, y_train)"
      ],
      "metadata": {
        "colab": {
          "base_uri": "https://localhost:8080/",
          "height": 75
        },
        "id": "grDDhPWly9Y2",
        "outputId": "0674308c-6dc7-4620-8742-7c5b73f8e165"
      },
      "execution_count": null,
      "outputs": [
        {
          "output_type": "execute_result",
          "data": {
            "text/plain": [
              "MLPClassifier(hidden_layer_sizes=(30, 10), max_iter=1000, random_state=1234)"
            ],
            "text/html": [
              "<style>#sk-container-id-4 {color: black;background-color: white;}#sk-container-id-4 pre{padding: 0;}#sk-container-id-4 div.sk-toggleable {background-color: white;}#sk-container-id-4 label.sk-toggleable__label {cursor: pointer;display: block;width: 100%;margin-bottom: 0;padding: 0.3em;box-sizing: border-box;text-align: center;}#sk-container-id-4 label.sk-toggleable__label-arrow:before {content: \"▸\";float: left;margin-right: 0.25em;color: #696969;}#sk-container-id-4 label.sk-toggleable__label-arrow:hover:before {color: black;}#sk-container-id-4 div.sk-estimator:hover label.sk-toggleable__label-arrow:before {color: black;}#sk-container-id-4 div.sk-toggleable__content {max-height: 0;max-width: 0;overflow: hidden;text-align: left;background-color: #f0f8ff;}#sk-container-id-4 div.sk-toggleable__content pre {margin: 0.2em;color: black;border-radius: 0.25em;background-color: #f0f8ff;}#sk-container-id-4 input.sk-toggleable__control:checked~div.sk-toggleable__content {max-height: 200px;max-width: 100%;overflow: auto;}#sk-container-id-4 input.sk-toggleable__control:checked~label.sk-toggleable__label-arrow:before {content: \"▾\";}#sk-container-id-4 div.sk-estimator input.sk-toggleable__control:checked~label.sk-toggleable__label {background-color: #d4ebff;}#sk-container-id-4 div.sk-label input.sk-toggleable__control:checked~label.sk-toggleable__label {background-color: #d4ebff;}#sk-container-id-4 input.sk-hidden--visually {border: 0;clip: rect(1px 1px 1px 1px);clip: rect(1px, 1px, 1px, 1px);height: 1px;margin: -1px;overflow: hidden;padding: 0;position: absolute;width: 1px;}#sk-container-id-4 div.sk-estimator {font-family: monospace;background-color: #f0f8ff;border: 1px dotted black;border-radius: 0.25em;box-sizing: border-box;margin-bottom: 0.5em;}#sk-container-id-4 div.sk-estimator:hover {background-color: #d4ebff;}#sk-container-id-4 div.sk-parallel-item::after {content: \"\";width: 100%;border-bottom: 1px solid gray;flex-grow: 1;}#sk-container-id-4 div.sk-label:hover label.sk-toggleable__label {background-color: #d4ebff;}#sk-container-id-4 div.sk-serial::before {content: \"\";position: absolute;border-left: 1px solid gray;box-sizing: border-box;top: 0;bottom: 0;left: 50%;z-index: 0;}#sk-container-id-4 div.sk-serial {display: flex;flex-direction: column;align-items: center;background-color: white;padding-right: 0.2em;padding-left: 0.2em;position: relative;}#sk-container-id-4 div.sk-item {position: relative;z-index: 1;}#sk-container-id-4 div.sk-parallel {display: flex;align-items: stretch;justify-content: center;background-color: white;position: relative;}#sk-container-id-4 div.sk-item::before, #sk-container-id-4 div.sk-parallel-item::before {content: \"\";position: absolute;border-left: 1px solid gray;box-sizing: border-box;top: 0;bottom: 0;left: 50%;z-index: -1;}#sk-container-id-4 div.sk-parallel-item {display: flex;flex-direction: column;z-index: 1;position: relative;background-color: white;}#sk-container-id-4 div.sk-parallel-item:first-child::after {align-self: flex-end;width: 50%;}#sk-container-id-4 div.sk-parallel-item:last-child::after {align-self: flex-start;width: 50%;}#sk-container-id-4 div.sk-parallel-item:only-child::after {width: 0;}#sk-container-id-4 div.sk-dashed-wrapped {border: 1px dashed gray;margin: 0 0.4em 0.5em 0.4em;box-sizing: border-box;padding-bottom: 0.4em;background-color: white;}#sk-container-id-4 div.sk-label label {font-family: monospace;font-weight: bold;display: inline-block;line-height: 1.2em;}#sk-container-id-4 div.sk-label-container {text-align: center;}#sk-container-id-4 div.sk-container {/* jupyter's `normalize.less` sets `[hidden] { display: none; }` but bootstrap.min.css set `[hidden] { display: none !important; }` so we also need the `!important` here to be able to override the default hidden behavior on the sphinx rendered scikit-learn.org. See: https://github.com/scikit-learn/scikit-learn/issues/21755 */display: inline-block !important;position: relative;}#sk-container-id-4 div.sk-text-repr-fallback {display: none;}</style><div id=\"sk-container-id-4\" class=\"sk-top-container\"><div class=\"sk-text-repr-fallback\"><pre>MLPClassifier(hidden_layer_sizes=(30, 10), max_iter=1000, random_state=1234)</pre><b>In a Jupyter environment, please rerun this cell to show the HTML representation or trust the notebook. <br />On GitHub, the HTML representation is unable to render, please try loading this page with nbviewer.org.</b></div><div class=\"sk-container\" hidden><div class=\"sk-item\"><div class=\"sk-estimator sk-toggleable\"><input class=\"sk-toggleable__control sk-hidden--visually\" id=\"sk-estimator-id-4\" type=\"checkbox\" checked><label for=\"sk-estimator-id-4\" class=\"sk-toggleable__label sk-toggleable__label-arrow\">MLPClassifier</label><div class=\"sk-toggleable__content\"><pre>MLPClassifier(hidden_layer_sizes=(30, 10), max_iter=1000, random_state=1234)</pre></div></div></div></div></div>"
            ]
          },
          "metadata": {},
          "execution_count": 58
        }
      ]
    },
    {
      "cell_type": "code",
      "source": [
        "y_pred_mlp = mlp.predict(X_test)\n",
        "\n",
        "# calculate the accuracy of the classifier\n",
        "accuracy = accuracy_score(y_test, y_pred_mlp)\n",
        "\n",
        "# print the accuracy\n",
        "print(\"Accuracy:\", accuracy)"
      ],
      "metadata": {
        "colab": {
          "base_uri": "https://localhost:8080/"
        },
        "id": "MKM8V_1I3Jbo",
        "outputId": "a610f3dd-d323-4ce6-b1f8-b208cc53a7c0"
      },
      "execution_count": null,
      "outputs": [
        {
          "output_type": "stream",
          "name": "stdout",
          "text": [
            "Accuracy: 0.80775\n"
          ]
        }
      ]
    },
    {
      "cell_type": "code",
      "source": [
        "print('\\nprecision score (per label): ', precision_score(y_test, y_pred_mlp, labels=label, average=None, zero_division=1))\n",
        "print('\\nprecision score (weighted average): ', precision_score(y_test, y_pred_mlp, average='weighted', zero_division=1))\n",
        "\n",
        "\n",
        "print('\\nrecall score: (per label)', recall_score(y_test, y_pred_mlp, labels=label, average=None))\n",
        "print('\\nrecall score: (weighted average)', recall_score(y_test, y_pred_mlp, labels=label, average='weighted'))\n",
        "\n",
        "      \n",
        "print('\\nf1 score (raw): ', f1_score(y_test, y_pred_mlp, average=None))\n",
        "print('\\nf1 score (weighted): ', f1_score(y_test, y_pred_mlp, average='weighted'))"
      ],
      "metadata": {
        "colab": {
          "base_uri": "https://localhost:8080/"
        },
        "id": "Yw76KQuGPrL-",
        "outputId": "8934b2b5-d4b3-431f-d58a-f8403f372309"
      },
      "execution_count": null,
      "outputs": [
        {
          "output_type": "stream",
          "name": "stdout",
          "text": [
            "\n",
            "precision score (per label):  [0.83406755 0.835      0.85381356 0.8034188  0.60571429 0.68918919]\n",
            "\n",
            "precision score (weighted average):  0.8094331835641909\n",
            "\n",
            "recall score: (per label) [0.84023669 0.8645384  0.74354244 0.79157895 0.64634146 0.70833333]\n",
            "\n",
            "recall score: (weighted average) 0.80775\n",
            "\n",
            "f1 score (raw):  [0.79487179 0.79745493 0.83714075 0.62536873 0.84951251 0.69863014]\n",
            "\n",
            "f1 score (weighted):  0.8079336446602935\n"
          ]
        }
      ]
    },
    {
      "cell_type": "code",
      "source": [
        "print(classification_report(y_test, y_pred_mlp))"
      ],
      "metadata": {
        "colab": {
          "base_uri": "https://localhost:8080/"
        },
        "id": "gL9QDKCjNPaB",
        "outputId": "f897d4ea-93c7-48bd-96b5-28f6d32e6c3a"
      },
      "execution_count": null,
      "outputs": [
        {
          "output_type": "stream",
          "name": "stdout",
          "text": [
            "              precision    recall  f1-score   support\n",
            "\n",
            "       anger       0.85      0.74      0.79       542\n",
            "        fear       0.80      0.79      0.80       475\n",
            "         joy       0.83      0.84      0.84      1352\n",
            "        love       0.61      0.65      0.63       328\n",
            "     sadness       0.83      0.86      0.85      1159\n",
            "    surprise       0.69      0.71      0.70       144\n",
            "\n",
            "    accuracy                           0.81      4000\n",
            "   macro avg       0.77      0.77      0.77      4000\n",
            "weighted avg       0.81      0.81      0.81      4000\n",
            "\n"
          ]
        }
      ]
    },
    {
      "cell_type": "markdown",
      "source": [
        "#Analysis of the performance of various approaches:\n",
        "\n",
        "##Naive Bayes: \n",
        "\n",
        "Naive Bayes was the least accurate of the models, with an accuracy score of 67%. Its interesting to note that the percision, recall, and f1 scores varied across the classes. Some classes had really high precision, a couple had perfect precision, which might suggest overfitting of the data. Some recalls were really good at 92 and 97%, while others were 27% or even 0%. With the exception of one 0%, most of the f1 scores were in the middle percentiles.\n",
        "\n",
        "Even though Naive Bayes wasn't super accurate, it was able to run really fast to get results. \n",
        "\n",
        "\n",
        "##Logistic Regression:\n",
        "Logistic regression actually fit very nicely. The accuracy was 84%, which is quite good! the percisions were really stable for each class compared to naive bayes, all hanging around the 80-90% range. The same can be said for the f1 scores. Recall was mostly good, but the last 2 classes (love, surprise) only had a recall of 54 and 39%. \n",
        "\n",
        "Interestingly, the logistic regression hit those great metrics without the model ever converging. After trying to fit the model I see this message:\n",
        "```\n",
        "ConvergenceWarning: lbfgs failed to converge (status=1):\n",
        "STOP: TOTAL NO. of ITERATIONS REACHED LIMIT.\n",
        "```\n",
        "I tried to see how I could get the model to converge, but did not find a way to. Regardless, the model performed really well!\n",
        "\n",
        "The logistic regression model took 3 seconds to run, which is not very long at all, and even though it was slower than the naive bayes model, it outperformed it by a long shot. \n",
        "\n",
        "##Neural Networks: \n",
        "\n",
        "For the multilayered perceptron, I was able to achieve an accuracy score of 81.725%. This is close to logistic regression, but not quite as good. The percision scores were lower across the board than Logistic regression, with classes in the 70's to low 80's. Recall was in this range of 60-80 %. F1 score was also in the 60-80% range. So the metrics were fairly even for the nerual network.\n",
        "\n",
        "I tried playing around with the learning rate, the number of iterations, the number of hidden layers, and their sizes. The best accuracy I was able to achieve was 81.725%\n",
        "\n",
        "The neural network took a whole minute to train. Which was significantly longer than either logistic regression or naive bayes. I have to say, the much longer run time did not pay off for the neural network, as the logistic regression won out on basically every metric. "
      ],
      "metadata": {
        "id": "ClU0-Yu-QMW-"
      }
    }
  ],
  "metadata": {
    "colab": {
      "provenance": []
    },
    "kernelspec": {
      "display_name": "Python 3",
      "name": "python3"
    },
    "language_info": {
      "name": "python"
    }
  },
  "nbformat": 4,
  "nbformat_minor": 0
}