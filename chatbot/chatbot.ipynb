{
  "nbformat": 4,
  "nbformat_minor": 0,
  "metadata": {
    "colab": {
      "provenance": []
    },
    "kernelspec": {
      "name": "python3",
      "display_name": "Python 3"
    },
    "language_info": {
      "name": "python"
    }
  },
  "cells": [
    {
      "cell_type": "code",
      "source": [
        "from google.colab import drive\n",
        "drive.mount('/content/drive')"
      ],
      "metadata": {
        "colab": {
          "base_uri": "https://localhost:8080/"
        },
        "id": "SfIfyN3p7BjM",
        "outputId": "0b4ed13a-a64e-45b8-fdb7-6f608f4acc2e"
      },
      "execution_count": null,
      "outputs": [
        {
          "output_type": "stream",
          "name": "stdout",
          "text": [
            "Drive already mounted at /content/drive; to attempt to forcibly remount, call drive.mount(\"/content/drive\", force_remount=True).\n"
          ]
        }
      ]
    },
    {
      "cell_type": "code",
      "source": [
        "import json\n",
        "with open('/content/drive/MyDrive/intents.json', 'r') as file:\n",
        "    kb = json.load(file)"
      ],
      "metadata": {
        "id": "45XxLQRz7D7e"
      },
      "execution_count": null,
      "outputs": []
    },
    {
      "cell_type": "code",
      "source": [
        "print(type(kb))"
      ],
      "metadata": {
        "colab": {
          "base_uri": "https://localhost:8080/"
        },
        "id": "JiyM2LAO7tud",
        "outputId": "09af22c0-f7af-45a9-a90c-0484326a3267"
      },
      "execution_count": null,
      "outputs": [
        {
          "output_type": "stream",
          "name": "stdout",
          "text": [
            "<class 'dict'>\n"
          ]
        }
      ]
    },
    {
      "cell_type": "code",
      "source": [
        "%cd \"/content/drive/MyDrive/Colab Notebooks\"\n",
        "!pip install import-ipynb\n",
        "import import_ipynb"
      ],
      "metadata": {
        "colab": {
          "base_uri": "https://localhost:8080/"
        },
        "id": "NLx7kGQh9P1Y",
        "outputId": "b7f38074-4526-4140-94f1-403876ee3c12"
      },
      "execution_count": null,
      "outputs": [
        {
          "output_type": "stream",
          "name": "stdout",
          "text": [
            "/content/drive/MyDrive/Colab Notebooks\n",
            "Looking in indexes: https://pypi.org/simple, https://us-python.pkg.dev/colab-wheels/public/simple/\n",
            "Requirement already satisfied: import-ipynb in /usr/local/lib/python3.9/dist-packages (0.1.4)\n",
            "Requirement already satisfied: IPython in /usr/local/lib/python3.9/dist-packages (from import-ipynb) (7.34.0)\n",
            "Requirement already satisfied: nbformat in /usr/local/lib/python3.9/dist-packages (from import-ipynb) (5.8.0)\n",
            "Requirement already satisfied: decorator in /usr/local/lib/python3.9/dist-packages (from IPython->import-ipynb) (4.4.2)\n",
            "Requirement already satisfied: jedi>=0.16 in /usr/local/lib/python3.9/dist-packages (from IPython->import-ipynb) (0.18.2)\n",
            "Requirement already satisfied: setuptools>=18.5 in /usr/local/lib/python3.9/dist-packages (from IPython->import-ipynb) (67.6.1)\n",
            "Requirement already satisfied: backcall in /usr/local/lib/python3.9/dist-packages (from IPython->import-ipynb) (0.2.0)\n",
            "Requirement already satisfied: matplotlib-inline in /usr/local/lib/python3.9/dist-packages (from IPython->import-ipynb) (0.1.6)\n",
            "Requirement already satisfied: pygments in /usr/local/lib/python3.9/dist-packages (from IPython->import-ipynb) (2.14.0)\n",
            "Requirement already satisfied: traitlets>=4.2 in /usr/local/lib/python3.9/dist-packages (from IPython->import-ipynb) (5.7.1)\n",
            "Requirement already satisfied: pexpect>4.3 in /usr/local/lib/python3.9/dist-packages (from IPython->import-ipynb) (4.8.0)\n",
            "Requirement already satisfied: prompt-toolkit!=3.0.0,!=3.0.1,<3.1.0,>=2.0.0 in /usr/local/lib/python3.9/dist-packages (from IPython->import-ipynb) (3.0.38)\n",
            "Requirement already satisfied: pickleshare in /usr/local/lib/python3.9/dist-packages (from IPython->import-ipynb) (0.7.5)\n",
            "Requirement already satisfied: jupyter-core in /usr/local/lib/python3.9/dist-packages (from nbformat->import-ipynb) (5.3.0)\n",
            "Requirement already satisfied: fastjsonschema in /usr/local/lib/python3.9/dist-packages (from nbformat->import-ipynb) (2.16.3)\n",
            "Requirement already satisfied: jsonschema>=2.6 in /usr/local/lib/python3.9/dist-packages (from nbformat->import-ipynb) (4.3.3)\n",
            "Requirement already satisfied: parso<0.9.0,>=0.8.0 in /usr/local/lib/python3.9/dist-packages (from jedi>=0.16->IPython->import-ipynb) (0.8.3)\n",
            "Requirement already satisfied: pyrsistent!=0.17.0,!=0.17.1,!=0.17.2,>=0.14.0 in /usr/local/lib/python3.9/dist-packages (from jsonschema>=2.6->nbformat->import-ipynb) (0.19.3)\n",
            "Requirement already satisfied: attrs>=17.4.0 in /usr/local/lib/python3.9/dist-packages (from jsonschema>=2.6->nbformat->import-ipynb) (22.2.0)\n",
            "Requirement already satisfied: ptyprocess>=0.5 in /usr/local/lib/python3.9/dist-packages (from pexpect>4.3->IPython->import-ipynb) (0.7.0)\n",
            "Requirement already satisfied: wcwidth in /usr/local/lib/python3.9/dist-packages (from prompt-toolkit!=3.0.0,!=3.0.1,<3.1.0,>=2.0.0->IPython->import-ipynb) (0.2.6)\n",
            "Requirement already satisfied: platformdirs>=2.5 in /usr/local/lib/python3.9/dist-packages (from jupyter-core->nbformat->import-ipynb) (3.2.0)\n"
          ]
        }
      ]
    },
    {
      "cell_type": "code",
      "source": [
        "!pip install tflearn"
      ],
      "metadata": {
        "colab": {
          "base_uri": "https://localhost:8080/"
        },
        "id": "S_abAd1MLdZr",
        "outputId": "7f8b8165-37c2-49a8-9440-9718f4376250"
      },
      "execution_count": null,
      "outputs": [
        {
          "output_type": "stream",
          "name": "stdout",
          "text": [
            "Looking in indexes: https://pypi.org/simple, https://us-python.pkg.dev/colab-wheels/public/simple/\n",
            "Requirement already satisfied: tflearn in /usr/local/lib/python3.9/dist-packages (0.5.0)\n",
            "Requirement already satisfied: six in /usr/local/lib/python3.9/dist-packages (from tflearn) (1.16.0)\n",
            "Requirement already satisfied: numpy in /usr/local/lib/python3.9/dist-packages (from tflearn) (1.22.4)\n",
            "Requirement already satisfied: Pillow in /usr/local/lib/python3.9/dist-packages (from tflearn) (8.4.0)\n"
          ]
        }
      ]
    },
    {
      "cell_type": "code",
      "source": [
        "import spacy\n",
        "import pickle\n",
        "from random import randint\n",
        "\n",
        "with open(\"/content/drive/MyDrive/data.pickle\", \"rb\") as f:\n",
        "    words, labels, training, output = pickle.load(f)"
      ],
      "metadata": {
        "id": "u8uWsPDdL7Qn"
      },
      "execution_count": null,
      "outputs": []
    },
    {
      "cell_type": "code",
      "source": [
        "import tflearn\n",
        "import tensorflow as tf\n",
        "\n",
        "tf.compat.v1.reset_default_graph()\n",
        "\n",
        "net = tflearn.input_data(shape=[None, len(training[0])])\n",
        "net = tflearn.fully_connected(net, 8)\n",
        "net = tflearn.fully_connected(net, 8)\n",
        "net = tflearn.fully_connected(net, len(output[0]), activation=\"softmax\")\n",
        "net = tflearn.regression(net)\n",
        "\n",
        "model = tflearn.DNN(net)\n",
        "\n",
        "model.load(\"/content/drive/MyDrive/model.tflearn\")"
      ],
      "metadata": {
        "id": "KEjluNrG9bzh"
      },
      "execution_count": null,
      "outputs": []
    },
    {
      "cell_type": "code",
      "source": [
        "import nltk\n",
        "from nltk.stem.lancaster import LancasterStemmer\n",
        "stemmer = LancasterStemmer()\n",
        "\n",
        "import numpy\n",
        "import random\n",
        "import sqlite3"
      ],
      "metadata": {
        "id": "4Pa87ES1NIuO"
      },
      "execution_count": null,
      "outputs": []
    },
    {
      "cell_type": "code",
      "source": [
        "conn = sqlite3.connect('chatbot_users.db')\n",
        "\n",
        "# create a table to store user information\n",
        "conn.execute('''\n",
        "    CREATE TABLE IF NOT EXISTS users (\n",
        "        id INTEGER PRIMARY KEY AUTOINCREMENT,\n",
        "        name TEXT NOT NULL,\n",
        "        age INTEGER,\n",
        "        gender TEXT,\n",
        "        location TEXT\n",
        "    )\n",
        "''')\n",
        "\n",
        "conn.execute('''\n",
        "    CREATE TABLE IF NOT EXISTS likes (\n",
        "        id INTEGER PRIMARY KEY AUTOINCREMENT,\n",
        "        userid INTEGER,\n",
        "        interest TEXT NOT NULL,\n",
        "        FOREIGN KEY(userid) REFERENCES users(id)\n",
        "    )\n",
        "''')\n",
        "\n",
        "conn.execute('''\n",
        "    CREATE TABLE IF NOT EXISTS dislikes (\n",
        "        id INTEGER PRIMARY KEY AUTOINCREMENT,\n",
        "        userid INTEGER,\n",
        "        uninterest TEXT NOT NULL,\n",
        "        FOREIGN KEY(userid) REFERENCES users(id)\n",
        "    )\n",
        "''')\n",
        "\n",
        "# To get the list of anyone's likes, you'd use a query like:\n",
        "\n",
        "# select users.name, likes.interest\n",
        "# from users\n",
        "# join likes on users.id=likes.userid\n",
        "\n",
        "# close the connection\n",
        "conn.commit()\n",
        "conn.close()"
      ],
      "metadata": {
        "id": "_De7HAsJd-AF"
      },
      "execution_count": null,
      "outputs": []
    },
    {
      "cell_type": "code",
      "source": [
        "nltk.download('averaged_perceptron_tagger')\n",
        "nltk.download('punkt')"
      ],
      "metadata": {
        "colab": {
          "base_uri": "https://localhost:8080/"
        },
        "id": "vDte7LbvzQ-O",
        "outputId": "f24e9415-0f2f-4ea3-8f5c-b815978a67ed"
      },
      "execution_count": null,
      "outputs": [
        {
          "output_type": "stream",
          "name": "stderr",
          "text": [
            "[nltk_data] Downloading package averaged_perceptron_tagger to\n",
            "[nltk_data]     /root/nltk_data...\n",
            "[nltk_data]   Package averaged_perceptron_tagger is already up-to-\n",
            "[nltk_data]       date!\n",
            "[nltk_data] Downloading package punkt to /root/nltk_data...\n",
            "[nltk_data]   Package punkt is already up-to-date!\n"
          ]
        },
        {
          "output_type": "execute_result",
          "data": {
            "text/plain": [
              "True"
            ]
          },
          "metadata": {},
          "execution_count": 259
        }
      ]
    },
    {
      "cell_type": "code",
      "execution_count": null,
      "metadata": {
        "id": "NWgllbyn52Cq"
      },
      "outputs": [],
      "source": [
        "nlp = spacy.load('en_core_web_sm')\n",
        "\n",
        "class chatBot:\n",
        "    def __init__(self, knowledgebase):\n",
        "      self.kb = knowledgebase\n",
        "      self.user = 1\n",
        "\n",
        "    def get_user_input(self):\n",
        "        user_in = input(\"%: \")\n",
        "        return user_in\n",
        "\n",
        "    def process_user_input(self, s):\n",
        "        # turn into bag of words\n",
        "      bag = [0 for _ in range(len(words))]\n",
        "\n",
        "      s_words = nltk.word_tokenize(s)\n",
        "      s_words = [stemmer.stem(word.lower()) for word in s_words]\n",
        "\n",
        "      for se in s_words:\n",
        "        for i, w in enumerate(words):\n",
        "          if w == se:\n",
        "            bag[i] = 1      \n",
        "      return numpy.array(bag)\n",
        "\n",
        "    def determine_response(self, input):\n",
        "      response = \"\"\n",
        "      # get response from ML model\n",
        "      prediction = model.predict(numpy.expand_dims(input, axis=0))\n",
        "      pred_index = numpy.argmax(prediction)\n",
        "      tag = labels[pred_index]\n",
        "      print(\"tag is:\" + tag)\n",
        "\n",
        "      for tg in self.kb[\"intents\"]:\n",
        "        if tg['tag'] == tag:\n",
        "          print(\"THE TAG WAS IN INTENTS\")\n",
        "          responses = tg['responses']\n",
        "          print(tg['responses'])\n",
        "          response = random.choice(responses)\n",
        "      if response != \"\":\n",
        "        return response\n",
        "      else: \n",
        "        return \"Sorry, I didn't get that. Please rephrase your request\"\n",
        "\n",
        "    def isUserInfo(self, input):\n",
        "      # if a user key word is in input\n",
        "      keys = [\"name\", \"like\", \"dislike\", \"age\", \"location\", \"gender\"]\n",
        "\n",
        "      for key in keys: \n",
        "        if key in input:\n",
        "          return True\n",
        "        \n",
        "      return False\n",
        "\n",
        "    def processUserInfo(self, input, parsed_input):\n",
        "      pos_tags = nltk.pos_tag(input.split())\n",
        "      propernouns = [word for word,pos in pos_tags if pos == 'NNP']\n",
        "      verbs = [word for word,pos in pos_tags if pos == 'VB' or pos == 'VBG']\n",
        "      nouns = [word for word,pos in pos_tags if pos == 'NN' or pos == 'NNS']\n",
        "      nums = [word for word,pos in pos_tags if pos == 'CD']\n",
        "      print(propernouns)\n",
        "      print(verbs)\n",
        "      print(nouns)\n",
        "\n",
        "      if \"name\" in input:\n",
        "        try:        \n",
        "          #grab the proper noun from the set of tagged words\n",
        "          print(pos_tags)\n",
        "        except:\n",
        "          print(\"I didn't detect a name\")\n",
        "        try:\n",
        "          #add to db\n",
        "          print(\"intent was name\")\n",
        "          conn = sqlite3.connect('chatbot_users.db')\n",
        "          conn.execute(\"INSERT INTO users (name) VALUES (?)\", (propernouns[0],))\n",
        "          conn.commit()\n",
        "          cursor = conn.execute(\"SELECT id FROM users WHERE name = '\" + propernouns[0] +\"'\")\n",
        "          c = cursor.fetchall()\n",
        "          print(type(c))\n",
        "          print(c)\n",
        "          self.user = c[0][0]\n",
        "          print(type(self.user))\n",
        "          print(self.user)\n",
        "          conn.commit()\n",
        "          conn.close()\n",
        "          print(input)\n",
        "        except BaseException as e:\n",
        "          print(\"error adding name to database\" + str(e))\n",
        "\n",
        "\n",
        "      elif \"age\" in input:\n",
        "        print(pos_tags)\n",
        "        #add to db\n",
        "        print(\"intent was age\")\n",
        "        conn = sqlite3.connect('chatbot_users.db')\n",
        "        conn.execute(\"UPDATE users SET age = \" + nums[0] + \" WHERE id = \" + str(self.user) + \"\")\n",
        "        conn.commit()\n",
        "        conn.close()\n",
        "        print(input)\n",
        "\n",
        "      elif \"location\" in input:\n",
        "        #grab the proper noun from the set of tagged words\n",
        "        print(pos_tags)\n",
        "        #add to db\n",
        "        print(\"intent was location\")\n",
        "        conn = sqlite3.connect('chatbot_users.db')\n",
        "        conn.execute(\"UPDATE users SET location = '\" + propernouns[0] + \"' WHERE id = \" + str(self.user) + \"\")\n",
        "        conn.commit()\n",
        "        conn.close()\n",
        "        print(input)\n",
        "\n",
        "      elif \"gender\" in input:\n",
        "        #grab the proper noun from the set of tagged words\n",
        "        print(pos_tags)\n",
        "        #add to db\n",
        "        print(\"intent was gender\")\n",
        "        conn = sqlite3.connect('chatbot_users.db')\n",
        "        conn.execute(\"UPDATE users SET gender = '\" + nouns[1] + \"' WHERE id = \" + str(self.user) + \"\")\n",
        "        conn.commit()\n",
        "        conn.close()\n",
        "        print(input)\n",
        "\n",
        "      elif \"dislike\" in input:\n",
        "        print(\"intent was dislikes\")\n",
        "        conn = sqlite3.connect('chatbot_users.db')\n",
        "        if len(verbs) > 0:\n",
        "          try:\n",
        "            conn.execute(\"INSERT INTO dislikes (uninterest, userid) VALUES (?, ?)\", (verbs[0],str(self.user)))\n",
        "            conn.commit()\n",
        "          except BaseException as e:\n",
        "            print(\"error adding dislike to database\" + str(e))\n",
        "          conn.close()\n",
        "          print(input)\n",
        "        elif len(nouns) > 0:\n",
        "          try:\n",
        "            conn.execute(\"INSERT INTO dislikes (uninterest, userid) VALUES (?, ?)\", (nouns[0],str(self.user)))\n",
        "            conn.commit()\n",
        "          except BaseException as e:\n",
        "            print(\"error adding like to database\" + str(e))\n",
        "          conn.close()\n",
        "          print(input)\n",
        "        else:\n",
        "          print(\"I didn't know how to process that dislike\")\n",
        "\n",
        "      elif \"like\" in input:\n",
        "          print(\"intent was likes\")\n",
        "          conn = sqlite3.connect('chatbot_users.db')\n",
        "          if len(verbs) > 0:\n",
        "            try:\n",
        "              conn.execute(\"INSERT INTO likes (interest, userid) VALUES (?, ?)\", (verbs[0],str(self.user)))\n",
        "              conn.commit()\n",
        "            except BaseException as e:\n",
        "              print(\"error adding like to database\" + str(e))\n",
        "            conn.close()\n",
        "            print(input)\n",
        "          elif len(nouns) > 0:\n",
        "            try:\n",
        "              conn.execute(\"INSERT INTO likes (interest, userid) VALUES (?, ?)\", (nouns[1],str(self.user)))\n",
        "              conn.commit()\n",
        "            except BaseException as e:\n",
        "              print(\"error adding like to database\" + str(e))\n",
        "            conn.close()\n",
        "            print(input)\n",
        "          else:\n",
        "            print(\"I didn't know how to process that like\")\n",
        "\n",
        "\n",
        "\n",
        "\n",
        "\n",
        "\n",
        "    def chat(self):\n",
        "        self.user_input = ''\n",
        "        print(\"Welcome to GB ChatBot!\")\n",
        "        print(\"When you are done using GB ChatBot, please type exit() to end the program.\")\n",
        "        print(\"Please type something you'd like to know about gameboy development: \")\n",
        "\n",
        "        while self.user_input != 'exit()':\n",
        "            # get user input\n",
        "            self.user_input = self.get_user_input()\n",
        "            if self.user_input != 'exit()':\n",
        "                # parse/process user input\n",
        "                # TODO: ---- IMPORTANT: somewhere in here, save user model to DB.\n",
        "                # pick the best response\n",
        "\n",
        "                parsed_input = self.process_user_input(self.user_input)\n",
        "\n",
        "                if(self.isUserInfo(self.user_input)):\n",
        "                  response = self.processUserInfo(self.user_input, parsed_input)\n",
        "                  pass\n",
        "                else:\n",
        "                  response = self.determine_response(parsed_input)\n",
        "                # send the response\n",
        "                print(response)\n",
        "            else:\n",
        "                print(\"Thanks for using GB ChatBot. Have a Nice Day!\")"
      ]
    },
    {
      "cell_type": "code",
      "source": [
        "cb = chatBot(kb)\n",
        "cb.chat()"
      ],
      "metadata": {
        "colab": {
          "base_uri": "https://localhost:8080/"
        },
        "id": "TH0QG7u3KJ4I",
        "outputId": "e1044624-0270-4961-ea49-2dd484266e99"
      },
      "execution_count": null,
      "outputs": [
        {
          "output_type": "stream",
          "name": "stdout",
          "text": [
            "Welcome to GB ChatBot!\n",
            "When you are done using GB ChatBot, please type exit() to end the program.\n",
            "Please type something you'd like to know about gameboy development: \n",
            "%: name is Ross\n",
            "['Ross']\n",
            "[]\n",
            "['name']\n",
            "[('name', 'NN'), ('is', 'VBZ'), ('Ross', 'NNP')]\n",
            "intent was name\n",
            "<class 'list'>\n",
            "[(5,)]\n",
            "<class 'int'>\n",
            "5\n",
            "name is Ross\n",
            "None\n",
            "%: likes jumping\n",
            "[]\n",
            "['jumping']\n",
            "['likes']\n",
            "intent was likes\n",
            "likes jumping\n",
            "None\n",
            "%: dislikes swimming\n",
            "[]\n",
            "['swimming']\n",
            "['dislikes']\n",
            "intent was dislikes\n",
            "dislikes swimming\n",
            "None\n",
            "%: exit()\n",
            "Thanks for using GB ChatBot. Have a Nice Day!\n"
          ]
        }
      ]
    },
    {
      "cell_type": "code",
      "source": [
        "conn = sqlite3.connect('chatbot_users.db')\n",
        "cursor = conn.execute(\"SELECT * FROM users\")\n",
        "items = cursor.fetchall()\n",
        "print(items)\n",
        "conn.close()"
      ],
      "metadata": {
        "colab": {
          "base_uri": "https://localhost:8080/"
        },
        "id": "bPUa2PeOTIem",
        "outputId": "8a31a654-0f2a-48b4-c83e-febdad0e281f"
      },
      "execution_count": null,
      "outputs": [
        {
          "output_type": "stream",
          "name": "stdout",
          "text": [
            "[(1, 'Bob', None, None, None), (2, 'Mary', 44, None, 'Texas'), (3, 'Louis', 34, 'man', 'Utah'), (4, 'Dylan', 33, None, 'Texas'), (5, 'Ross', None, None, None)]\n"
          ]
        }
      ]
    },
    {
      "cell_type": "code",
      "source": [
        "conn = sqlite3.connect('chatbot_users.db')\n",
        "cursor = conn.execute(\"SELECT * FROM likes\")\n",
        "items = cursor.fetchall()\n",
        "print(items)\n",
        "conn.close()"
      ],
      "metadata": {
        "colab": {
          "base_uri": "https://localhost:8080/"
        },
        "id": "aBNMlImrMKYu",
        "outputId": "685b9d4e-b6f5-4a7b-d31f-c9d76a9c4338"
      },
      "execution_count": null,
      "outputs": [
        {
          "output_type": "stream",
          "name": "stdout",
          "text": [
            "[(1, 1, 'coffee'), (2, 3, 'computers'), (3, 3, 'flying'), (4, 5, 'jumping')]\n"
          ]
        }
      ]
    },
    {
      "cell_type": "code",
      "source": [
        "conn = sqlite3.connect('chatbot_users.db')\n",
        "cursor = conn.execute(\"SELECT * FROM dislikes\")\n",
        "items = cursor.fetchall()\n",
        "print(items)\n",
        "conn.close()"
      ],
      "metadata": {
        "colab": {
          "base_uri": "https://localhost:8080/"
        },
        "id": "VWlDBegVLicT",
        "outputId": "6dfed960-c015-4a0f-d051-3c7c1e162bbd"
      },
      "execution_count": null,
      "outputs": [
        {
          "output_type": "stream",
          "name": "stdout",
          "text": [
            "[(1, 3, 'swimming'), (2, 3, 'dislikes'), (3, 5, 'swimming')]\n"
          ]
        }
      ]
    },
    {
      "cell_type": "code",
      "source": [],
      "metadata": {
        "id": "FOR-j_UuLj0X"
      },
      "execution_count": null,
      "outputs": []
    }
  ]
}